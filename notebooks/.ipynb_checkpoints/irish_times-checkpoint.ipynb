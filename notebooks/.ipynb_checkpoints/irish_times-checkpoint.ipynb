{
 "cells": [
  {
   "cell_type": "code",
   "execution_count": 36,
   "id": "024fe2a6-f625-46a5-a4dc-9c68bd8a7569",
   "metadata": {},
   "outputs": [
    {
     "data": {
      "text/html": [
       "<div>\n",
       "<style scoped>\n",
       "    .dataframe tbody tr th:only-of-type {\n",
       "        vertical-align: middle;\n",
       "    }\n",
       "\n",
       "    .dataframe tbody tr th {\n",
       "        vertical-align: top;\n",
       "    }\n",
       "\n",
       "    .dataframe thead th {\n",
       "        text-align: right;\n",
       "    }\n",
       "</style>\n",
       "<table border=\"1\" class=\"dataframe\">\n",
       "  <thead>\n",
       "    <tr style=\"text-align: right;\">\n",
       "      <th></th>\n",
       "      <th>publish_date</th>\n",
       "      <th>headline_category</th>\n",
       "      <th>headline_text</th>\n",
       "    </tr>\n",
       "  </thead>\n",
       "  <tbody>\n",
       "    <tr>\n",
       "      <th>0</th>\n",
       "      <td>2001-01-02</td>\n",
       "      <td>unknown</td>\n",
       "      <td>Status quo will not be disturbed at Ayodhya; s...</td>\n",
       "    </tr>\n",
       "    <tr>\n",
       "      <th>1</th>\n",
       "      <td>2001-01-02</td>\n",
       "      <td>unknown</td>\n",
       "      <td>Fissures in Hurriyat over Pak visit</td>\n",
       "    </tr>\n",
       "    <tr>\n",
       "      <th>2</th>\n",
       "      <td>2001-01-02</td>\n",
       "      <td>unknown</td>\n",
       "      <td>America's unwanted heading for India?</td>\n",
       "    </tr>\n",
       "    <tr>\n",
       "      <th>3</th>\n",
       "      <td>2001-01-02</td>\n",
       "      <td>unknown</td>\n",
       "      <td>For bigwigs; it is destination Goa</td>\n",
       "    </tr>\n",
       "    <tr>\n",
       "      <th>4</th>\n",
       "      <td>2001-01-02</td>\n",
       "      <td>unknown</td>\n",
       "      <td>Extra buses to clear tourist traffic</td>\n",
       "    </tr>\n",
       "  </tbody>\n",
       "</table>\n",
       "</div>"
      ],
      "text/plain": [
       "  publish_date headline_category  \\\n",
       "0   2001-01-02           unknown   \n",
       "1   2001-01-02           unknown   \n",
       "2   2001-01-02           unknown   \n",
       "3   2001-01-02           unknown   \n",
       "4   2001-01-02           unknown   \n",
       "\n",
       "                                       headline_text  \n",
       "0  Status quo will not be disturbed at Ayodhya; s...  \n",
       "1                Fissures in Hurriyat over Pak visit  \n",
       "2              America's unwanted heading for India?  \n",
       "3                 For bigwigs; it is destination Goa  \n",
       "4               Extra buses to clear tourist traffic  "
      ]
     },
     "execution_count": 36,
     "metadata": {},
     "output_type": "execute_result"
    }
   ],
   "source": [
    "# importing libraries\n",
    "import matplotlib.pyplot as plt\n",
    "import numpy as np\n",
    "import pandas as pd\n",
    "import seaborn as sns\n",
    "from sklearn.feature_extraction.text import CountVectorizer, TfidfVectorizer\n",
    "import warnings\n",
    "import nltk\n",
    "from nltk.corpus import stopwords\n",
    "warnings.filterwarnings(\"ignore\")\n",
    "headlines = pd.read_csv(\n",
    "    \"../data/india-news-headlines.csv\", parse_dates=[0], infer_datetime_format=True\n",
    ")\n",
    "headlines.head()"
   ]
  },
  {
   "cell_type": "code",
   "execution_count": 37,
   "id": "297f1f96-95e0-4e4a-90dd-561e69806d1f",
   "metadata": {},
   "outputs": [],
   "source": [
    "stop_words = set(stopwords.words('english'))\n",
    "\n",
    "def build_corpus(data):\n",
    "    corpus = []\n",
    "    for sentence in data.iteritems():\n",
    "        word_list = sentence[1].split(\" \")\n",
    "        word_list = [each_string.lower() for each_string in word_list]\n",
    "        filtered_sentence = [w for w in word_list if not w in stop_words]\n",
    "        corpus.append(filtered_sentence)\n",
    "    return corpus\n",
    "\n",
    "#corpus = build_corpus(headlines['headline_text'].astype(str))"
   ]
  },
  {
   "cell_type": "code",
   "execution_count": 38,
   "id": "2e203b36-f466-47b5-8e11-20eaa442de75",
   "metadata": {},
   "outputs": [],
   "source": [
    "def get_top_n_words(corpus, n=10):\n",
    "    vec = CountVectorizer(stop_words='english').fit(corpus)\n",
    "    bag_of_words = vec.transform(corpus)\n",
    "    sum_words = bag_of_words.sum(axis=0) \n",
    "    words_freq = [(word, sum_words[0, idx]) for word, idx in vec.vocabulary_.items()]\n",
    "    words_freq =sorted(words_freq, key = lambda x: x[1], reverse=True)\n",
    "    return words_freq[:n]"
   ]
  },
  {
   "cell_type": "code",
   "execution_count": 74,
   "id": "05497231-f516-4cf7-9e85-23a893ca4c0d",
   "metadata": {},
   "outputs": [
    {
     "name": "stdout",
     "output_type": "stream",
     "text": [
      "[============================================------] 89.1% 1480.9/1662.8MB downloaded"
     ]
    }
   ],
   "source": [
    "#!pip install --upgrade gensim==3.8.3 --user\n",
    "from gensim.models import Word2Vec\n",
    "from sklearn.cluster import KMeans\n",
    "from sklearn import cluster, metrics, mixture\n",
    "from scipy.spatial.distance import cdist\n",
    "from collections import Counter"
   ]
  },
  {
   "cell_type": "code",
   "execution_count": 69,
   "id": "9852a9df-951f-49ff-a869-1d17794f67f2",
   "metadata": {},
   "outputs": [
    {
     "data": {
      "text/plain": [
       "Counter({2: 245, 4: 92, 1: 28, 7: 56, 0: 16021, 6: 637, 5: 2069, 3: 21})"
      ]
     },
     "metadata": {},
     "output_type": "display_data"
    }
   ],
   "source": [
    "year_month = '2020-04'\n",
    "headlines[\"month_year\"] = headlines[\"publish_date\"].dt.to_period(\"M\")\n",
    "corpus = build_corpus(headlines.loc[headlines['month_year'] == year_month].headline_text)\n",
    "model = Word2Vec(corpus, size=2500, min_count=1)\n",
    "\n",
    "vectors = model[model.wv.vocab]\n",
    "words = list(model.wv.vocab)\n",
    "X = pd.concat([pd.DataFrame(words, columns=['word']), pd.DataFrame(vectors)], axis=1)\n",
    "\n",
    "top100_frequencies = get_top_n_words(headlines.loc[headlines['month_year'] == year_month].headline_text, 100)\n",
    "top100 = [i[0] for i in top100_frequencies]\n",
    "\n",
    "kmeans = KMeans(n_clusters=8, random_state=0).fit(X.drop(['word'], axis=1))\n",
    "\n",
    "X_ = pd.concat([X, pd.DataFrame(kmeans.labels_, columns=['label'], index=X.index)], axis=1)\n",
    "\n",
    "X100 = X_[X_['word'].isin(top100)]\n",
    "\n",
    "dct = {}\n",
    "for label in X_.label.unique():\n",
    "    dct[f'cluster_{label}'] = (X100['word'].loc[X100['label'] == label].tolist())\n",
    "display(Counter(kmeans.labels_))\n",
    "#display(dct)"
   ]
  },
  {
   "cell_type": "code",
   "execution_count": 70,
   "id": "a6251971-5867-4abd-98c8-c7c033881d26",
   "metadata": {},
   "outputs": [],
   "source": [
    "from sklearn.decomposition import PCA\n",
    "\n",
    "# fit a 2d PCA model to the vectors\n",
    "\n",
    "pca = PCA(n_components=2)\n",
    "PCA_result = pca.fit_transform(vectors)\n",
    "# prepare a dataframe\n",
    "words = pd.DataFrame(words)\n",
    "PCA_result = pd.DataFrame(PCA_result)\n",
    "PCA_result['x_values'] =PCA_result.iloc[0:, 0]\n",
    "PCA_result['y_values'] =PCA_result.iloc[0:, 1]\n",
    "PCA_final = pd.merge(words, PCA_result, left_index=True, right_index=True)\n",
    "PCA_final['word'] =PCA_final.iloc[0:, 0]\n",
    "clusters = pd.DataFrame(kmeans.labels_, columns=['label'], index=PCA_final.index)\n",
    "PCA_data_complet = pd.concat([PCA_final[['word','x_values','y_values']], clusters], axis=1)\n",
    "PCA_data_complet100 = PCA_data_complet[PCA_data_complet['word'].isin(top100)]"
   ]
  },
  {
   "cell_type": "code",
   "execution_count": 71,
   "id": "7bcfaaf1-7d47-4558-9528-9b555a1b2ee1",
   "metadata": {},
   "outputs": [
    {
     "data": {
      "application/vnd.plotly.v1+json": {
       "config": {
        "plotlyServerURL": "https://plot.ly"
       },
       "data": [
        {
         "hovertemplate": "label=1<br>x_values=%{x}<br>y_values=%{y}<extra></extra>",
         "legendgroup": "1",
         "marker": {
          "color": "#636efa",
          "symbol": "circle"
         },
         "mode": "markers",
         "name": "1",
         "orientation": "v",
         "showlegend": true,
         "type": "scatter",
         "x": [
          0.8693268299102783,
          0.9962300062179565,
          0.9917275309562683,
          0.8707523941993713,
          1.1085054874420166,
          0.9317758679389954,
          0.855087161064148,
          1.0540556907653809,
          1.075812816619873,
          1.1121909618377686,
          1.0008764266967773,
          1.1342779397964478,
          0.9158019423484802,
          1.1618924140930176,
          0.8399016857147217,
          0.9174542427062988,
          1.1179895401000977,
          1.035447359085083,
          0.8468543887138367,
          1.2161245346069336,
          1.0471974611282349,
          1.035660982131958,
          0.8883591294288635
         ],
         "xaxis": "x",
         "y": [
          -0.0035120618995279074,
          0.0014492376940324903,
          -0.003919987473636866,
          0.0031177045311778784,
          0.001036863075569272,
          -0.0025017568841576576,
          -0.004164151847362518,
          0.025656158104538918,
          -0.0014173523522913456,
          -0.004199716728180647,
          -0.003518502227962017,
          0.005412065889686346,
          -0.0014147184556350112,
          -0.0012718536891043186,
          -0.0013197154039517045,
          -0.0050917393527925014,
          6.957438017707318e-06,
          -0.0014377519255504012,
          -0.0015509615186601877,
          0.023232202976942062,
          -0.004241787362843752,
          0.009610970504581928,
          -0.0035251204390078783
         ],
         "yaxis": "y"
        },
        {
         "hovertemplate": "label=7<br>x_values=%{x}<br>y_values=%{y}<extra></extra>",
         "legendgroup": "7",
         "marker": {
          "color": "#EF553B",
          "symbol": "circle"
         },
         "mode": "markers",
         "name": "7",
         "orientation": "v",
         "showlegend": true,
         "type": "scatter",
         "x": [
          0.7792656421661377,
          0.5989804267883301,
          0.5953878164291382,
          0.5571760535240173,
          0.6457661390304565,
          0.6722766160964966,
          0.6144394278526306,
          0.6943251490592957,
          0.7105678915977478,
          0.5875269174575806,
          0.7262644171714783,
          0.66945880651474,
          0.7022708058357239,
          0.5939118266105652,
          0.6891771554946899,
          0.6969652771949768,
          0.547493577003479,
          0.697023332118988,
          0.5777882933616638,
          0.6495256423950195,
          0.7720060348510742,
          0.6677947640419006,
          0.6637977957725525,
          0.5493627786636353,
          0.7975125908851624,
          0.6296732425689697,
          0.628522515296936,
          0.6281788349151611,
          0.6973866820335388,
          0.5419023633003235,
          0.5644604563713074,
          0.6933469176292419,
          0.7410601377487183,
          0.6387249827384949,
          0.5711217522621155,
          0.7064457535743713,
          0.5710003972053528,
          0.5773771405220032,
          0.6877775192260742
         ],
         "xaxis": "x",
         "y": [
          0.0026689989026635885,
          -0.0009235508623532951,
          0.0014874701155349612,
          -0.0015150598483160138,
          -0.0003029801300726831,
          -0.00027426655287854373,
          0.006243372801691294,
          0.005350793711841106,
          0.007021257653832436,
          -0.0008225914207287133,
          0.00016074291488621384,
          -0.0006336593069136143,
          0.005011202767491341,
          0.0006087231449782848,
          -0.0022953087463974953,
          0.001713871955871582,
          -0.0015245365211740136,
          -0.0027918159030377865,
          -0.001649406854994595,
          0.000923061859793961,
          0.0017165748868137598,
          -0.003187017049640417,
          -0.0030296440236270428,
          0.001290772226639092,
          0.0014231407549232244,
          -0.0021405781153589487,
          -0.0027221478521823883,
          -0.0027375000063329935,
          -0.0025755641981959343,
          0.0012075427221134305,
          -0.0012268389109522104,
          -0.002130666980519891,
          -0.003016252536326647,
          -0.0033942540176212788,
          0.007536438759416342,
          -0.0029438480269163847,
          -0.0023075994104146957,
          -0.001859840820543468,
          0.0020868051797151566
         ],
         "yaxis": "y"
        },
        {
         "hovertemplate": "label=3<br>x_values=%{x}<br>y_values=%{y}<extra></extra>",
         "legendgroup": "3",
         "marker": {
          "color": "#00cc96",
          "symbol": "circle"
         },
         "mode": "markers",
         "name": "3",
         "orientation": "v",
         "showlegend": true,
         "type": "scatter",
         "x": [
          1.3448292016983032,
          1.4749301671981812,
          2.0161383152008057,
          1.3488577604293823,
          2.0340662002563477,
          1.4298291206359863,
          1.591241717338562,
          1.6442835330963135,
          1.4610018730163574,
          1.4401872158050537,
          1.5906695127487183,
          1.4613662958145142,
          1.5024977922439575,
          1.4770718812942505,
          1.4444350004196167,
          1.4664158821105957,
          1.3953917026519775
         ],
         "xaxis": "x",
         "y": [
          -0.0068527041003108025,
          -0.0052385334856808186,
          -0.00760685233399272,
          0.004910771735012531,
          -0.007165343500673771,
          0.0028761918656527996,
          -0.006054729223251343,
          0.003175400197505951,
          -0.005350267514586449,
          -0.003853035159409046,
          0.0158573929220438,
          -0.004790675360709429,
          -0.0036462899297475815,
          0.03082956187427044,
          -0.003463049652054906,
          -0.00457573588937521,
          0.00846787542104721
         ],
         "yaxis": "y"
        },
        {
         "hovertemplate": "label=2<br>x_values=%{x}<br>y_values=%{y}<extra></extra>",
         "legendgroup": "2",
         "marker": {
          "color": "#ab63fa",
          "symbol": "circle"
         },
         "mode": "markers",
         "name": "2",
         "orientation": "v",
         "showlegend": true,
         "type": "scatter",
         "x": [
          0.32505497336387634,
          0.21411985158920288,
          0.23554594814777374,
          0.23726192116737366,
          0.22149856388568878
         ],
         "xaxis": "x",
         "y": [
          -0.0008475877111777663,
          0.00037269634776748717,
          -4.970149166183546e-05,
          -0.0009810298215597868,
          0.00208646128885448
         ],
         "yaxis": "y"
        },
        {
         "hovertemplate": "label=4<br>x_values=%{x}<br>y_values=%{y}<extra></extra>",
         "legendgroup": "4",
         "marker": {
          "color": "#FFA15A",
          "symbol": "circle"
         },
         "mode": "markers",
         "name": "4",
         "orientation": "v",
         "showlegend": true,
         "type": "scatter",
         "x": [
          0.39786437153816223,
          0.5167618989944458,
          0.4961433708667755,
          0.3809426426887512,
          0.3322793245315552,
          0.45945125818252563,
          0.4603619873523712,
          0.4620347321033478,
          0.3829749822616577,
          0.4869533181190491,
          0.4885673522949219,
          0.41295546293258667,
          0.5060255527496338
         ],
         "xaxis": "x",
         "y": [
          -0.000696761067956686,
          -0.0020791629794985056,
          0.00029380738851614296,
          0.00012582761701196432,
          -0.0007391499821096659,
          0.001161488937214017,
          -0.0004900536732748151,
          -0.000556857034098357,
          0.015089509077370167,
          -0.00047054895549081266,
          -0.0012312944745644927,
          -0.00023728636733721942,
          0.0005506371962837875
         ],
         "yaxis": "y"
        },
        {
         "hovertemplate": "label=6<br>x_values=%{x}<br>y_values=%{y}<extra></extra>",
         "legendgroup": "6",
         "marker": {
          "color": "#19d3f3",
          "symbol": "circle"
         },
         "mode": "markers",
         "name": "6",
         "orientation": "v",
         "showlegend": true,
         "type": "scatter",
         "x": [
          0.14936964213848114
         ],
         "xaxis": "x",
         "y": [
          -0.000155322952196002
         ],
         "yaxis": "y"
        }
       ],
       "layout": {
        "dragmode": "pan",
        "height": 400,
        "legend": {
         "title": {
          "text": "label"
         },
         "tracegroupgap": 0
        },
        "margin": {
         "t": 60
        },
        "template": {
         "data": {
          "bar": [
           {
            "error_x": {
             "color": "#2a3f5f"
            },
            "error_y": {
             "color": "#2a3f5f"
            },
            "marker": {
             "line": {
              "color": "#E5ECF6",
              "width": 0.5
             },
             "pattern": {
              "fillmode": "overlay",
              "size": 10,
              "solidity": 0.2
             }
            },
            "type": "bar"
           }
          ],
          "barpolar": [
           {
            "marker": {
             "line": {
              "color": "#E5ECF6",
              "width": 0.5
             },
             "pattern": {
              "fillmode": "overlay",
              "size": 10,
              "solidity": 0.2
             }
            },
            "type": "barpolar"
           }
          ],
          "carpet": [
           {
            "aaxis": {
             "endlinecolor": "#2a3f5f",
             "gridcolor": "white",
             "linecolor": "white",
             "minorgridcolor": "white",
             "startlinecolor": "#2a3f5f"
            },
            "baxis": {
             "endlinecolor": "#2a3f5f",
             "gridcolor": "white",
             "linecolor": "white",
             "minorgridcolor": "white",
             "startlinecolor": "#2a3f5f"
            },
            "type": "carpet"
           }
          ],
          "choropleth": [
           {
            "colorbar": {
             "outlinewidth": 0,
             "ticks": ""
            },
            "type": "choropleth"
           }
          ],
          "contour": [
           {
            "colorbar": {
             "outlinewidth": 0,
             "ticks": ""
            },
            "colorscale": [
             [
              0,
              "#0d0887"
             ],
             [
              0.1111111111111111,
              "#46039f"
             ],
             [
              0.2222222222222222,
              "#7201a8"
             ],
             [
              0.3333333333333333,
              "#9c179e"
             ],
             [
              0.4444444444444444,
              "#bd3786"
             ],
             [
              0.5555555555555556,
              "#d8576b"
             ],
             [
              0.6666666666666666,
              "#ed7953"
             ],
             [
              0.7777777777777778,
              "#fb9f3a"
             ],
             [
              0.8888888888888888,
              "#fdca26"
             ],
             [
              1,
              "#f0f921"
             ]
            ],
            "type": "contour"
           }
          ],
          "contourcarpet": [
           {
            "colorbar": {
             "outlinewidth": 0,
             "ticks": ""
            },
            "type": "contourcarpet"
           }
          ],
          "heatmap": [
           {
            "colorbar": {
             "outlinewidth": 0,
             "ticks": ""
            },
            "colorscale": [
             [
              0,
              "#0d0887"
             ],
             [
              0.1111111111111111,
              "#46039f"
             ],
             [
              0.2222222222222222,
              "#7201a8"
             ],
             [
              0.3333333333333333,
              "#9c179e"
             ],
             [
              0.4444444444444444,
              "#bd3786"
             ],
             [
              0.5555555555555556,
              "#d8576b"
             ],
             [
              0.6666666666666666,
              "#ed7953"
             ],
             [
              0.7777777777777778,
              "#fb9f3a"
             ],
             [
              0.8888888888888888,
              "#fdca26"
             ],
             [
              1,
              "#f0f921"
             ]
            ],
            "type": "heatmap"
           }
          ],
          "heatmapgl": [
           {
            "colorbar": {
             "outlinewidth": 0,
             "ticks": ""
            },
            "colorscale": [
             [
              0,
              "#0d0887"
             ],
             [
              0.1111111111111111,
              "#46039f"
             ],
             [
              0.2222222222222222,
              "#7201a8"
             ],
             [
              0.3333333333333333,
              "#9c179e"
             ],
             [
              0.4444444444444444,
              "#bd3786"
             ],
             [
              0.5555555555555556,
              "#d8576b"
             ],
             [
              0.6666666666666666,
              "#ed7953"
             ],
             [
              0.7777777777777778,
              "#fb9f3a"
             ],
             [
              0.8888888888888888,
              "#fdca26"
             ],
             [
              1,
              "#f0f921"
             ]
            ],
            "type": "heatmapgl"
           }
          ],
          "histogram": [
           {
            "marker": {
             "pattern": {
              "fillmode": "overlay",
              "size": 10,
              "solidity": 0.2
             }
            },
            "type": "histogram"
           }
          ],
          "histogram2d": [
           {
            "colorbar": {
             "outlinewidth": 0,
             "ticks": ""
            },
            "colorscale": [
             [
              0,
              "#0d0887"
             ],
             [
              0.1111111111111111,
              "#46039f"
             ],
             [
              0.2222222222222222,
              "#7201a8"
             ],
             [
              0.3333333333333333,
              "#9c179e"
             ],
             [
              0.4444444444444444,
              "#bd3786"
             ],
             [
              0.5555555555555556,
              "#d8576b"
             ],
             [
              0.6666666666666666,
              "#ed7953"
             ],
             [
              0.7777777777777778,
              "#fb9f3a"
             ],
             [
              0.8888888888888888,
              "#fdca26"
             ],
             [
              1,
              "#f0f921"
             ]
            ],
            "type": "histogram2d"
           }
          ],
          "histogram2dcontour": [
           {
            "colorbar": {
             "outlinewidth": 0,
             "ticks": ""
            },
            "colorscale": [
             [
              0,
              "#0d0887"
             ],
             [
              0.1111111111111111,
              "#46039f"
             ],
             [
              0.2222222222222222,
              "#7201a8"
             ],
             [
              0.3333333333333333,
              "#9c179e"
             ],
             [
              0.4444444444444444,
              "#bd3786"
             ],
             [
              0.5555555555555556,
              "#d8576b"
             ],
             [
              0.6666666666666666,
              "#ed7953"
             ],
             [
              0.7777777777777778,
              "#fb9f3a"
             ],
             [
              0.8888888888888888,
              "#fdca26"
             ],
             [
              1,
              "#f0f921"
             ]
            ],
            "type": "histogram2dcontour"
           }
          ],
          "mesh3d": [
           {
            "colorbar": {
             "outlinewidth": 0,
             "ticks": ""
            },
            "type": "mesh3d"
           }
          ],
          "parcoords": [
           {
            "line": {
             "colorbar": {
              "outlinewidth": 0,
              "ticks": ""
             }
            },
            "type": "parcoords"
           }
          ],
          "pie": [
           {
            "automargin": true,
            "type": "pie"
           }
          ],
          "scatter": [
           {
            "marker": {
             "colorbar": {
              "outlinewidth": 0,
              "ticks": ""
             }
            },
            "type": "scatter"
           }
          ],
          "scatter3d": [
           {
            "line": {
             "colorbar": {
              "outlinewidth": 0,
              "ticks": ""
             }
            },
            "marker": {
             "colorbar": {
              "outlinewidth": 0,
              "ticks": ""
             }
            },
            "type": "scatter3d"
           }
          ],
          "scattercarpet": [
           {
            "marker": {
             "colorbar": {
              "outlinewidth": 0,
              "ticks": ""
             }
            },
            "type": "scattercarpet"
           }
          ],
          "scattergeo": [
           {
            "marker": {
             "colorbar": {
              "outlinewidth": 0,
              "ticks": ""
             }
            },
            "type": "scattergeo"
           }
          ],
          "scattergl": [
           {
            "marker": {
             "colorbar": {
              "outlinewidth": 0,
              "ticks": ""
             }
            },
            "type": "scattergl"
           }
          ],
          "scattermapbox": [
           {
            "marker": {
             "colorbar": {
              "outlinewidth": 0,
              "ticks": ""
             }
            },
            "type": "scattermapbox"
           }
          ],
          "scatterpolar": [
           {
            "marker": {
             "colorbar": {
              "outlinewidth": 0,
              "ticks": ""
             }
            },
            "type": "scatterpolar"
           }
          ],
          "scatterpolargl": [
           {
            "marker": {
             "colorbar": {
              "outlinewidth": 0,
              "ticks": ""
             }
            },
            "type": "scatterpolargl"
           }
          ],
          "scatterternary": [
           {
            "marker": {
             "colorbar": {
              "outlinewidth": 0,
              "ticks": ""
             }
            },
            "type": "scatterternary"
           }
          ],
          "surface": [
           {
            "colorbar": {
             "outlinewidth": 0,
             "ticks": ""
            },
            "colorscale": [
             [
              0,
              "#0d0887"
             ],
             [
              0.1111111111111111,
              "#46039f"
             ],
             [
              0.2222222222222222,
              "#7201a8"
             ],
             [
              0.3333333333333333,
              "#9c179e"
             ],
             [
              0.4444444444444444,
              "#bd3786"
             ],
             [
              0.5555555555555556,
              "#d8576b"
             ],
             [
              0.6666666666666666,
              "#ed7953"
             ],
             [
              0.7777777777777778,
              "#fb9f3a"
             ],
             [
              0.8888888888888888,
              "#fdca26"
             ],
             [
              1,
              "#f0f921"
             ]
            ],
            "type": "surface"
           }
          ],
          "table": [
           {
            "cells": {
             "fill": {
              "color": "#EBF0F8"
             },
             "line": {
              "color": "white"
             }
            },
            "header": {
             "fill": {
              "color": "#C8D4E3"
             },
             "line": {
              "color": "white"
             }
            },
            "type": "table"
           }
          ]
         },
         "layout": {
          "annotationdefaults": {
           "arrowcolor": "#2a3f5f",
           "arrowhead": 0,
           "arrowwidth": 1
          },
          "autotypenumbers": "strict",
          "coloraxis": {
           "colorbar": {
            "outlinewidth": 0,
            "ticks": ""
           }
          },
          "colorscale": {
           "diverging": [
            [
             0,
             "#8e0152"
            ],
            [
             0.1,
             "#c51b7d"
            ],
            [
             0.2,
             "#de77ae"
            ],
            [
             0.3,
             "#f1b6da"
            ],
            [
             0.4,
             "#fde0ef"
            ],
            [
             0.5,
             "#f7f7f7"
            ],
            [
             0.6,
             "#e6f5d0"
            ],
            [
             0.7,
             "#b8e186"
            ],
            [
             0.8,
             "#7fbc41"
            ],
            [
             0.9,
             "#4d9221"
            ],
            [
             1,
             "#276419"
            ]
           ],
           "sequential": [
            [
             0,
             "#0d0887"
            ],
            [
             0.1111111111111111,
             "#46039f"
            ],
            [
             0.2222222222222222,
             "#7201a8"
            ],
            [
             0.3333333333333333,
             "#9c179e"
            ],
            [
             0.4444444444444444,
             "#bd3786"
            ],
            [
             0.5555555555555556,
             "#d8576b"
            ],
            [
             0.6666666666666666,
             "#ed7953"
            ],
            [
             0.7777777777777778,
             "#fb9f3a"
            ],
            [
             0.8888888888888888,
             "#fdca26"
            ],
            [
             1,
             "#f0f921"
            ]
           ],
           "sequentialminus": [
            [
             0,
             "#0d0887"
            ],
            [
             0.1111111111111111,
             "#46039f"
            ],
            [
             0.2222222222222222,
             "#7201a8"
            ],
            [
             0.3333333333333333,
             "#9c179e"
            ],
            [
             0.4444444444444444,
             "#bd3786"
            ],
            [
             0.5555555555555556,
             "#d8576b"
            ],
            [
             0.6666666666666666,
             "#ed7953"
            ],
            [
             0.7777777777777778,
             "#fb9f3a"
            ],
            [
             0.8888888888888888,
             "#fdca26"
            ],
            [
             1,
             "#f0f921"
            ]
           ]
          },
          "colorway": [
           "#636efa",
           "#EF553B",
           "#00cc96",
           "#ab63fa",
           "#FFA15A",
           "#19d3f3",
           "#FF6692",
           "#B6E880",
           "#FF97FF",
           "#FECB52"
          ],
          "font": {
           "color": "#2a3f5f"
          },
          "geo": {
           "bgcolor": "white",
           "lakecolor": "white",
           "landcolor": "#E5ECF6",
           "showlakes": true,
           "showland": true,
           "subunitcolor": "white"
          },
          "hoverlabel": {
           "align": "left"
          },
          "hovermode": "closest",
          "mapbox": {
           "style": "light"
          },
          "paper_bgcolor": "white",
          "plot_bgcolor": "#E5ECF6",
          "polar": {
           "angularaxis": {
            "gridcolor": "white",
            "linecolor": "white",
            "ticks": ""
           },
           "bgcolor": "#E5ECF6",
           "radialaxis": {
            "gridcolor": "white",
            "linecolor": "white",
            "ticks": ""
           }
          },
          "scene": {
           "xaxis": {
            "backgroundcolor": "#E5ECF6",
            "gridcolor": "white",
            "gridwidth": 2,
            "linecolor": "white",
            "showbackground": true,
            "ticks": "",
            "zerolinecolor": "white"
           },
           "yaxis": {
            "backgroundcolor": "#E5ECF6",
            "gridcolor": "white",
            "gridwidth": 2,
            "linecolor": "white",
            "showbackground": true,
            "ticks": "",
            "zerolinecolor": "white"
           },
           "zaxis": {
            "backgroundcolor": "#E5ECF6",
            "gridcolor": "white",
            "gridwidth": 2,
            "linecolor": "white",
            "showbackground": true,
            "ticks": "",
            "zerolinecolor": "white"
           }
          },
          "shapedefaults": {
           "line": {
            "color": "#2a3f5f"
           }
          },
          "ternary": {
           "aaxis": {
            "gridcolor": "white",
            "linecolor": "white",
            "ticks": ""
           },
           "baxis": {
            "gridcolor": "white",
            "linecolor": "white",
            "ticks": ""
           },
           "bgcolor": "#E5ECF6",
           "caxis": {
            "gridcolor": "white",
            "linecolor": "white",
            "ticks": ""
           }
          },
          "title": {
           "x": 0.05
          },
          "xaxis": {
           "automargin": true,
           "gridcolor": "white",
           "linecolor": "white",
           "ticks": "",
           "title": {
            "standoff": 15
           },
           "zerolinecolor": "white",
           "zerolinewidth": 2
          },
          "yaxis": {
           "automargin": true,
           "gridcolor": "white",
           "linecolor": "white",
           "ticks": "",
           "title": {
            "standoff": 15
           },
           "zerolinecolor": "white",
           "zerolinewidth": 2
          }
         }
        },
        "width": 500,
        "xaxis": {
         "anchor": "y",
         "autorange": true,
         "domain": [
          0,
          1
         ],
         "range": [
          0.018356397311192263,
          2.1650794450836366
         ],
         "title": {
          "text": "x_values"
         },
         "type": "linear"
        },
        "yaxis": {
         "anchor": "x",
         "autorange": true,
         "domain": [
          0,
          1
         ],
         "range": [
          -0.010449280316281496,
          0.03367198985655922
         ],
         "title": {
          "text": "y_values"
         },
         "type": "linear"
        }
       }
      },
      "image/png": "[encoded data removed]",
      "text/html": [
       "<div>                            <div id=\"be4295ea-a647-460b-b362-b0dd4c6f1727\" class=\"plotly-graph-div\" style=\"height:400px; width:500px;\"></div>            <script type=\"text/javascript\">                require([\"plotly\"], function(Plotly) {                    window.PLOTLYENV=window.PLOTLYENV || {};                                    if (document.getElementById(\"be4295ea-a647-460b-b362-b0dd4c6f1727\")) {                    Plotly.newPlot(                        \"be4295ea-a647-460b-b362-b0dd4c6f1727\",                        [{\"hovertemplate\":\"label=1<br>x_values=%{x}<br>y_values=%{y}<extra></extra>\",\"legendgroup\":\"1\",\"marker\":{\"color\":\"#636efa\",\"symbol\":\"circle\"},\"mode\":\"markers\",\"name\":\"1\",\"orientation\":\"v\",\"showlegend\":true,\"x\":[0.8693268299102783,0.9962300062179565,0.9917275309562683,0.8707523941993713,1.1085054874420166,0.9317758679389954,0.855087161064148,1.0540556907653809,1.075812816619873,1.1121909618377686,1.0008764266967773,1.1342779397964478,0.9158019423484802,1.1618924140930176,0.8399016857147217,0.9174542427062988,1.1179895401000977,1.035447359085083,0.8468543887138367,1.2161245346069336,1.0471974611282349,1.035660982131958,0.8883591294288635],\"xaxis\":\"x\",\"y\":[-0.0035120618995279074,0.0014492376940324903,-0.003919987473636866,0.0031177045311778784,0.001036863075569272,-0.0025017568841576576,-0.004164151847362518,0.025656158104538918,-0.0014173523522913456,-0.004199716728180647,-0.003518502227962017,0.005412065889686346,-0.0014147184556350112,-0.0012718536891043186,-0.0013197154039517045,-0.0050917393527925014,6.957438017707318e-06,-0.0014377519255504012,-0.0015509615186601877,0.023232202976942062,-0.004241787362843752,0.009610970504581928,-0.0035251204390078783],\"yaxis\":\"y\",\"type\":\"scatter\"},{\"hovertemplate\":\"label=7<br>x_values=%{x}<br>y_values=%{y}<extra></extra>\",\"legendgroup\":\"7\",\"marker\":{\"color\":\"#EF553B\",\"symbol\":\"circle\"},\"mode\":\"markers\",\"name\":\"7\",\"orientation\":\"v\",\"showlegend\":true,\"x\":[0.7792656421661377,0.5989804267883301,0.5953878164291382,0.5571760535240173,0.6457661390304565,0.6722766160964966,0.6144394278526306,0.6943251490592957,0.7105678915977478,0.5875269174575806,0.7262644171714783,0.66945880651474,0.7022708058357239,0.5939118266105652,0.6891771554946899,0.6969652771949768,0.547493577003479,0.697023332118988,0.5777882933616638,0.6495256423950195,0.7720060348510742,0.6677947640419006,0.6637977957725525,0.5493627786636353,0.7975125908851624,0.6296732425689697,0.628522515296936,0.6281788349151611,0.6973866820335388,0.5419023633003235,0.5644604563713074,0.6933469176292419,0.7410601377487183,0.6387249827384949,0.5711217522621155,0.7064457535743713,0.5710003972053528,0.5773771405220032,0.6877775192260742],\"xaxis\":\"x\",\"y\":[0.0026689989026635885,-0.0009235508623532951,0.0014874701155349612,-0.0015150598483160138,-0.0003029801300726831,-0.00027426655287854373,0.006243372801691294,0.005350793711841106,0.007021257653832436,-0.0008225914207287133,0.00016074291488621384,-0.0006336593069136143,0.005011202767491341,0.0006087231449782848,-0.0022953087463974953,0.001713871955871582,-0.0015245365211740136,-0.0027918159030377865,-0.001649406854994595,0.000923061859793961,0.0017165748868137598,-0.003187017049640417,-0.0030296440236270428,0.001290772226639092,0.0014231407549232244,-0.0021405781153589487,-0.0027221478521823883,-0.0027375000063329935,-0.0025755641981959343,0.0012075427221134305,-0.0012268389109522104,-0.002130666980519891,-0.003016252536326647,-0.0033942540176212788,0.007536438759416342,-0.0029438480269163847,-0.0023075994104146957,-0.001859840820543468,0.0020868051797151566],\"yaxis\":\"y\",\"type\":\"scatter\"},{\"hovertemplate\":\"label=3<br>x_values=%{x}<br>y_values=%{y}<extra></extra>\",\"legendgroup\":\"3\",\"marker\":{\"color\":\"#00cc96\",\"symbol\":\"circle\"},\"mode\":\"markers\",\"name\":\"3\",\"orientation\":\"v\",\"showlegend\":true,\"x\":[1.3448292016983032,1.4749301671981812,2.0161383152008057,1.3488577604293823,2.0340662002563477,1.4298291206359863,1.591241717338562,1.6442835330963135,1.4610018730163574,1.4401872158050537,1.5906695127487183,1.4613662958145142,1.5024977922439575,1.4770718812942505,1.4444350004196167,1.4664158821105957,1.3953917026519775],\"xaxis\":\"x\",\"y\":[-0.0068527041003108025,-0.0052385334856808186,-0.00760685233399272,0.004910771735012531,-0.007165343500673771,0.0028761918656527996,-0.006054729223251343,0.003175400197505951,-0.005350267514586449,-0.003853035159409046,0.0158573929220438,-0.004790675360709429,-0.0036462899297475815,0.03082956187427044,-0.003463049652054906,-0.00457573588937521,0.00846787542104721],\"yaxis\":\"y\",\"type\":\"scatter\"},{\"hovertemplate\":\"label=2<br>x_values=%{x}<br>y_values=%{y}<extra></extra>\",\"legendgroup\":\"2\",\"marker\":{\"color\":\"#ab63fa\",\"symbol\":\"circle\"},\"mode\":\"markers\",\"name\":\"2\",\"orientation\":\"v\",\"showlegend\":true,\"x\":[0.32505497336387634,0.21411985158920288,0.23554594814777374,0.23726192116737366,0.22149856388568878],\"xaxis\":\"x\",\"y\":[-0.0008475877111777663,0.00037269634776748717,-4.970149166183546e-05,-0.0009810298215597868,0.00208646128885448],\"yaxis\":\"y\",\"type\":\"scatter\"},{\"hovertemplate\":\"label=4<br>x_values=%{x}<br>y_values=%{y}<extra></extra>\",\"legendgroup\":\"4\",\"marker\":{\"color\":\"#FFA15A\",\"symbol\":\"circle\"},\"mode\":\"markers\",\"name\":\"4\",\"orientation\":\"v\",\"showlegend\":true,\"x\":[0.39786437153816223,0.5167618989944458,0.4961433708667755,0.3809426426887512,0.3322793245315552,0.45945125818252563,0.4603619873523712,0.4620347321033478,0.3829749822616577,0.4869533181190491,0.4885673522949219,0.41295546293258667,0.5060255527496338],\"xaxis\":\"x\",\"y\":[-0.000696761067956686,-0.0020791629794985056,0.00029380738851614296,0.00012582761701196432,-0.0007391499821096659,0.001161488937214017,-0.0004900536732748151,-0.000556857034098357,0.015089509077370167,-0.00047054895549081266,-0.0012312944745644927,-0.00023728636733721942,0.0005506371962837875],\"yaxis\":\"y\",\"type\":\"scatter\"},{\"hovertemplate\":\"label=6<br>x_values=%{x}<br>y_values=%{y}<extra></extra>\",\"legendgroup\":\"6\",\"marker\":{\"color\":\"#19d3f3\",\"symbol\":\"circle\"},\"mode\":\"markers\",\"name\":\"6\",\"orientation\":\"v\",\"showlegend\":true,\"x\":[0.14936964213848114],\"xaxis\":\"x\",\"y\":[-0.000155322952196002],\"yaxis\":\"y\",\"type\":\"scatter\"}],                        {\"template\":{\"data\":{\"bar\":[{\"error_x\":{\"color\":\"#2a3f5f\"},\"error_y\":{\"color\":\"#2a3f5f\"},\"marker\":{\"line\":{\"color\":\"#E5ECF6\",\"width\":0.5},\"pattern\":{\"fillmode\":\"overlay\",\"size\":10,\"solidity\":0.2}},\"type\":\"bar\"}],\"barpolar\":[{\"marker\":{\"line\":{\"color\":\"#E5ECF6\",\"width\":0.5},\"pattern\":{\"fillmode\":\"overlay\",\"size\":10,\"solidity\":0.2}},\"type\":\"barpolar\"}],\"carpet\":[{\"aaxis\":{\"endlinecolor\":\"#2a3f5f\",\"gridcolor\":\"white\",\"linecolor\":\"white\",\"minorgridcolor\":\"white\",\"startlinecolor\":\"#2a3f5f\"},\"baxis\":{\"endlinecolor\":\"#2a3f5f\",\"gridcolor\":\"white\",\"linecolor\":\"white\",\"minorgridcolor\":\"white\",\"startlinecolor\":\"#2a3f5f\"},\"type\":\"carpet\"}],\"choropleth\":[{\"colorbar\":{\"outlinewidth\":0,\"ticks\":\"\"},\"type\":\"choropleth\"}],\"contour\":[{\"colorbar\":{\"outlinewidth\":0,\"ticks\":\"\"},\"colorscale\":[[0.0,\"#0d0887\"],[0.1111111111111111,\"#46039f\"],[0.2222222222222222,\"#7201a8\"],[0.3333333333333333,\"#9c179e\"],[0.4444444444444444,\"#bd3786\"],[0.5555555555555556,\"#d8576b\"],[0.6666666666666666,\"#ed7953\"],[0.7777777777777778,\"#fb9f3a\"],[0.8888888888888888,\"#fdca26\"],[1.0,\"#f0f921\"]],\"type\":\"contour\"}],\"contourcarpet\":[{\"colorbar\":{\"outlinewidth\":0,\"ticks\":\"\"},\"type\":\"contourcarpet\"}],\"heatmap\":[{\"colorbar\":{\"outlinewidth\":0,\"ticks\":\"\"},\"colorscale\":[[0.0,\"#0d0887\"],[0.1111111111111111,\"#46039f\"],[0.2222222222222222,\"#7201a8\"],[0.3333333333333333,\"#9c179e\"],[0.4444444444444444,\"#bd3786\"],[0.5555555555555556,\"#d8576b\"],[0.6666666666666666,\"#ed7953\"],[0.7777777777777778,\"#fb9f3a\"],[0.8888888888888888,\"#fdca26\"],[1.0,\"#f0f921\"]],\"type\":\"heatmap\"}],\"heatmapgl\":[{\"colorbar\":{\"outlinewidth\":0,\"ticks\":\"\"},\"colorscale\":[[0.0,\"#0d0887\"],[0.1111111111111111,\"#46039f\"],[0.2222222222222222,\"#7201a8\"],[0.3333333333333333,\"#9c179e\"],[0.4444444444444444,\"#bd3786\"],[0.5555555555555556,\"#d8576b\"],[0.6666666666666666,\"#ed7953\"],[0.7777777777777778,\"#fb9f3a\"],[0.8888888888888888,\"#fdca26\"],[1.0,\"#f0f921\"]],\"type\":\"heatmapgl\"}],\"histogram\":[{\"marker\":{\"pattern\":{\"fillmode\":\"overlay\",\"size\":10,\"solidity\":0.2}},\"type\":\"histogram\"}],\"histogram2d\":[{\"colorbar\":{\"outlinewidth\":0,\"ticks\":\"\"},\"colorscale\":[[0.0,\"#0d0887\"],[0.1111111111111111,\"#46039f\"],[0.2222222222222222,\"#7201a8\"],[0.3333333333333333,\"#9c179e\"],[0.4444444444444444,\"#bd3786\"],[0.5555555555555556,\"#d8576b\"],[0.6666666666666666,\"#ed7953\"],[0.7777777777777778,\"#fb9f3a\"],[0.8888888888888888,\"#fdca26\"],[1.0,\"#f0f921\"]],\"type\":\"histogram2d\"}],\"histogram2dcontour\":[{\"colorbar\":{\"outlinewidth\":0,\"ticks\":\"\"},\"colorscale\":[[0.0,\"#0d0887\"],[0.1111111111111111,\"#46039f\"],[0.2222222222222222,\"#7201a8\"],[0.3333333333333333,\"#9c179e\"],[0.4444444444444444,\"#bd3786\"],[0.5555555555555556,\"#d8576b\"],[0.6666666666666666,\"#ed7953\"],[0.7777777777777778,\"#fb9f3a\"],[0.8888888888888888,\"#fdca26\"],[1.0,\"#f0f921\"]],\"type\":\"histogram2dcontour\"}],\"mesh3d\":[{\"colorbar\":{\"outlinewidth\":0,\"ticks\":\"\"},\"type\":\"mesh3d\"}],\"parcoords\":[{\"line\":{\"colorbar\":{\"outlinewidth\":0,\"ticks\":\"\"}},\"type\":\"parcoords\"}],\"pie\":[{\"automargin\":true,\"type\":\"pie\"}],\"scatter\":[{\"marker\":{\"colorbar\":{\"outlinewidth\":0,\"ticks\":\"\"}},\"type\":\"scatter\"}],\"scatter3d\":[{\"line\":{\"colorbar\":{\"outlinewidth\":0,\"ticks\":\"\"}},\"marker\":{\"colorbar\":{\"outlinewidth\":0,\"ticks\":\"\"}},\"type\":\"scatter3d\"}],\"scattercarpet\":[{\"marker\":{\"colorbar\":{\"outlinewidth\":0,\"ticks\":\"\"}},\"type\":\"scattercarpet\"}],\"scattergeo\":[{\"marker\":{\"colorbar\":{\"outlinewidth\":0,\"ticks\":\"\"}},\"type\":\"scattergeo\"}],\"scattergl\":[{\"marker\":{\"colorbar\":{\"outlinewidth\":0,\"ticks\":\"\"}},\"type\":\"scattergl\"}],\"scattermapbox\":[{\"marker\":{\"colorbar\":{\"outlinewidth\":0,\"ticks\":\"\"}},\"type\":\"scattermapbox\"}],\"scatterpolar\":[{\"marker\":{\"colorbar\":{\"outlinewidth\":0,\"ticks\":\"\"}},\"type\":\"scatterpolar\"}],\"scatterpolargl\":[{\"marker\":{\"colorbar\":{\"outlinewidth\":0,\"ticks\":\"\"}},\"type\":\"scatterpolargl\"}],\"scatterternary\":[{\"marker\":{\"colorbar\":{\"outlinewidth\":0,\"ticks\":\"\"}},\"type\":\"scatterternary\"}],\"surface\":[{\"colorbar\":{\"outlinewidth\":0,\"ticks\":\"\"},\"colorscale\":[[0.0,\"#0d0887\"],[0.1111111111111111,\"#46039f\"],[0.2222222222222222,\"#7201a8\"],[0.3333333333333333,\"#9c179e\"],[0.4444444444444444,\"#bd3786\"],[0.5555555555555556,\"#d8576b\"],[0.6666666666666666,\"#ed7953\"],[0.7777777777777778,\"#fb9f3a\"],[0.8888888888888888,\"#fdca26\"],[1.0,\"#f0f921\"]],\"type\":\"surface\"}],\"table\":[{\"cells\":{\"fill\":{\"color\":\"#EBF0F8\"},\"line\":{\"color\":\"white\"}},\"header\":{\"fill\":{\"color\":\"#C8D4E3\"},\"line\":{\"color\":\"white\"}},\"type\":\"table\"}]},\"layout\":{\"annotationdefaults\":{\"arrowcolor\":\"#2a3f5f\",\"arrowhead\":0,\"arrowwidth\":1},\"autotypenumbers\":\"strict\",\"coloraxis\":{\"colorbar\":{\"outlinewidth\":0,\"ticks\":\"\"}},\"colorscale\":{\"diverging\":[[0,\"#8e0152\"],[0.1,\"#c51b7d\"],[0.2,\"#de77ae\"],[0.3,\"#f1b6da\"],[0.4,\"#fde0ef\"],[0.5,\"#f7f7f7\"],[0.6,\"#e6f5d0\"],[0.7,\"#b8e186\"],[0.8,\"#7fbc41\"],[0.9,\"#4d9221\"],[1,\"#276419\"]],\"sequential\":[[0.0,\"#0d0887\"],[0.1111111111111111,\"#46039f\"],[0.2222222222222222,\"#7201a8\"],[0.3333333333333333,\"#9c179e\"],[0.4444444444444444,\"#bd3786\"],[0.5555555555555556,\"#d8576b\"],[0.6666666666666666,\"#ed7953\"],[0.7777777777777778,\"#fb9f3a\"],[0.8888888888888888,\"#fdca26\"],[1.0,\"#f0f921\"]],\"sequentialminus\":[[0.0,\"#0d0887\"],[0.1111111111111111,\"#46039f\"],[0.2222222222222222,\"#7201a8\"],[0.3333333333333333,\"#9c179e\"],[0.4444444444444444,\"#bd3786\"],[0.5555555555555556,\"#d8576b\"],[0.6666666666666666,\"#ed7953\"],[0.7777777777777778,\"#fb9f3a\"],[0.8888888888888888,\"#fdca26\"],[1.0,\"#f0f921\"]]},\"colorway\":[\"#636efa\",\"#EF553B\",\"#00cc96\",\"#ab63fa\",\"#FFA15A\",\"#19d3f3\",\"#FF6692\",\"#B6E880\",\"#FF97FF\",\"#FECB52\"],\"font\":{\"color\":\"#2a3f5f\"},\"geo\":{\"bgcolor\":\"white\",\"lakecolor\":\"white\",\"landcolor\":\"#E5ECF6\",\"showlakes\":true,\"showland\":true,\"subunitcolor\":\"white\"},\"hoverlabel\":{\"align\":\"left\"},\"hovermode\":\"closest\",\"mapbox\":{\"style\":\"light\"},\"paper_bgcolor\":\"white\",\"plot_bgcolor\":\"#E5ECF6\",\"polar\":{\"angularaxis\":{\"gridcolor\":\"white\",\"linecolor\":\"white\",\"ticks\":\"\"},\"bgcolor\":\"#E5ECF6\",\"radialaxis\":{\"gridcolor\":\"white\",\"linecolor\":\"white\",\"ticks\":\"\"}},\"scene\":{\"xaxis\":{\"backgroundcolor\":\"#E5ECF6\",\"gridcolor\":\"white\",\"gridwidth\":2,\"linecolor\":\"white\",\"showbackground\":true,\"ticks\":\"\",\"zerolinecolor\":\"white\"},\"yaxis\":{\"backgroundcolor\":\"#E5ECF6\",\"gridcolor\":\"white\",\"gridwidth\":2,\"linecolor\":\"white\",\"showbackground\":true,\"ticks\":\"\",\"zerolinecolor\":\"white\"},\"zaxis\":{\"backgroundcolor\":\"#E5ECF6\",\"gridcolor\":\"white\",\"gridwidth\":2,\"linecolor\":\"white\",\"showbackground\":true,\"ticks\":\"\",\"zerolinecolor\":\"white\"}},\"shapedefaults\":{\"line\":{\"color\":\"#2a3f5f\"}},\"ternary\":{\"aaxis\":{\"gridcolor\":\"white\",\"linecolor\":\"white\",\"ticks\":\"\"},\"baxis\":{\"gridcolor\":\"white\",\"linecolor\":\"white\",\"ticks\":\"\"},\"bgcolor\":\"#E5ECF6\",\"caxis\":{\"gridcolor\":\"white\",\"linecolor\":\"white\",\"ticks\":\"\"}},\"title\":{\"x\":0.05},\"xaxis\":{\"automargin\":true,\"gridcolor\":\"white\",\"linecolor\":\"white\",\"ticks\":\"\",\"title\":{\"standoff\":15},\"zerolinecolor\":\"white\",\"zerolinewidth\":2},\"yaxis\":{\"automargin\":true,\"gridcolor\":\"white\",\"linecolor\":\"white\",\"ticks\":\"\",\"title\":{\"standoff\":15},\"zerolinecolor\":\"white\",\"zerolinewidth\":2}}},\"xaxis\":{\"anchor\":\"y\",\"domain\":[0.0,1.0],\"title\":{\"text\":\"x_values\"}},\"yaxis\":{\"anchor\":\"x\",\"domain\":[0.0,1.0],\"title\":{\"text\":\"y_values\"}},\"legend\":{\"title\":{\"text\":\"label\"},\"tracegroupgap\":0},\"margin\":{\"t\":60},\"height\":400,\"width\":500},                        {\"responsive\": true}                    ).then(function(){\n",
       "                            \n",
       "var gd = document.getElementById('be4295ea-a647-460b-b362-b0dd4c6f1727');\n",
       "var x = new MutationObserver(function (mutations, observer) {{\n",
       "        var display = window.getComputedStyle(gd).display;\n",
       "        if (!display || display === 'none') {{\n",
       "            console.log([gd, 'removed!']);\n",
       "            Plotly.purge(gd);\n",
       "            observer.disconnect();\n",
       "        }}\n",
       "}});\n",
       "\n",
       "// Listen for the removal of the full notebook cells\n",
       "var notebookContainer = gd.closest('#notebook-container');\n",
       "if (notebookContainer) {{\n",
       "    x.observe(notebookContainer, {childList: true});\n",
       "}}\n",
       "\n",
       "// Listen for the clearing of the current output cell\n",
       "var outputEl = gd.closest('.output');\n",
       "if (outputEl) {{\n",
       "    x.observe(outputEl, {childList: true});\n",
       "}}\n",
       "\n",
       "                        })                };                });            </script>        </div>"
      ]
     },
     "metadata": {},
     "output_type": "display_data"
    }
   ],
   "source": [
    "import plotly.express as px\n",
    "PCA_data_complet100.label = PCA_data_complet100.label.astype(str)\n",
    "fig = px.scatter(PCA_data_complet100, x=\"x_values\", y=\"y_values\", color='label', width=500, height=400)\n",
    "fig.show()"
   ]
  },
  {
   "cell_type": "code",
   "execution_count": 77,
   "id": "cc24aaa2-dda5-4e2c-bccb-a23d5ba5b047",
   "metadata": {},
   "outputs": [
    {
     "data": {
      "text/plain": [
       "['bihar',\n",
       " 'pm',\n",
       " 'areas',\n",
       " 'maharashtra',\n",
       " 'karnataka',\n",
       " '10',\n",
       " 'pune',\n",
       " 'hyderabad',\n",
       " 'nadu',\n",
       " 'rajasthan',\n",
       " 'gujarat',\n",
       " 'mumbai',\n",
       " 'cop']"
      ]
     },
     "execution_count": 77,
     "metadata": {},
     "output_type": "execute_result"
    }
   ],
   "source": [
    "dct.get('cluster_4')"
   ]
  },
  {
   "cell_type": "code",
   "execution_count": null,
   "id": "0a3da27d-f85f-4a7b-b542-28fdb7c0c044",
   "metadata": {},
   "outputs": [],
   "source": []
  },
  {
   "cell_type": "code",
   "execution_count": null,
   "id": "8ba7c31d-e589-4fb7-85e3-f33cae67d4c2",
   "metadata": {},
   "outputs": [],
   "source": []
  },
  {
   "cell_type": "code",
   "execution_count": null,
   "id": "5a56a369-68a3-4d02-a4ed-e9349665492e",
   "metadata": {},
   "outputs": [],
   "source": []
  }
 ],
 "metadata": {
  "kernelspec": {
   "display_name": "Python 3",
   "language": "python",
   "name": "python3"
  },
  "language_info": {
   "codemirror_mode": {
    "name": "ipython",
    "version": 3
   },
   "file_extension": ".py",
   "mimetype": "text/x-python",
   "name": "python",
   "nbconvert_exporter": "python",
   "pygments_lexer": "ipython3",
   "version": "3.8.8"
  }
 },
 "nbformat": 4,
 "nbformat_minor": 5
}
