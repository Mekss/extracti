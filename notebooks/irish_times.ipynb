{
 "cells": [
  {
   "cell_type": "code",
   "execution_count": 1,
   "id": "024fe2a6-f625-46a5-a4dc-9c68bd8a7569",
   "metadata": {},
   "outputs": [
    {
     "data": {
      "text/html": [
       "<div>\n",
       "<style scoped>\n",
       "    .dataframe tbody tr th:only-of-type {\n",
       "        vertical-align: middle;\n",
       "    }\n",
       "\n",
       "    .dataframe tbody tr th {\n",
       "        vertical-align: top;\n",
       "    }\n",
       "\n",
       "    .dataframe thead th {\n",
       "        text-align: right;\n",
       "    }\n",
       "</style>\n",
       "<table border=\"1\" class=\"dataframe\">\n",
       "  <thead>\n",
       "    <tr style=\"text-align: right;\">\n",
       "      <th></th>\n",
       "      <th>publish_date</th>\n",
       "      <th>headline_category</th>\n",
       "      <th>headline_text</th>\n",
       "    </tr>\n",
       "  </thead>\n",
       "  <tbody>\n",
       "    <tr>\n",
       "      <th>0</th>\n",
       "      <td>2001-01-02</td>\n",
       "      <td>unknown</td>\n",
       "      <td>Status quo will not be disturbed at Ayodhya; s...</td>\n",
       "    </tr>\n",
       "    <tr>\n",
       "      <th>1</th>\n",
       "      <td>2001-01-02</td>\n",
       "      <td>unknown</td>\n",
       "      <td>Fissures in Hurriyat over Pak visit</td>\n",
       "    </tr>\n",
       "    <tr>\n",
       "      <th>2</th>\n",
       "      <td>2001-01-02</td>\n",
       "      <td>unknown</td>\n",
       "      <td>America's unwanted heading for India?</td>\n",
       "    </tr>\n",
       "    <tr>\n",
       "      <th>3</th>\n",
       "      <td>2001-01-02</td>\n",
       "      <td>unknown</td>\n",
       "      <td>For bigwigs; it is destination Goa</td>\n",
       "    </tr>\n",
       "    <tr>\n",
       "      <th>4</th>\n",
       "      <td>2001-01-02</td>\n",
       "      <td>unknown</td>\n",
       "      <td>Extra buses to clear tourist traffic</td>\n",
       "    </tr>\n",
       "  </tbody>\n",
       "</table>\n",
       "</div>"
      ],
      "text/plain": [
       "  publish_date headline_category  \\\n",
       "0   2001-01-02           unknown   \n",
       "1   2001-01-02           unknown   \n",
       "2   2001-01-02           unknown   \n",
       "3   2001-01-02           unknown   \n",
       "4   2001-01-02           unknown   \n",
       "\n",
       "                                       headline_text  \n",
       "0  Status quo will not be disturbed at Ayodhya; s...  \n",
       "1                Fissures in Hurriyat over Pak visit  \n",
       "2              America's unwanted heading for India?  \n",
       "3                 For bigwigs; it is destination Goa  \n",
       "4               Extra buses to clear tourist traffic  "
      ]
     },
     "execution_count": 1,
     "metadata": {},
     "output_type": "execute_result"
    }
   ],
   "source": [
    "# importing libraries\n",
    "import matplotlib.pyplot as plt\n",
    "import numpy as np\n",
    "import pandas as pd\n",
    "import seaborn as sns\n",
    "from sklearn.feature_extraction.text import CountVectorizer, TfidfVectorizer\n",
    "import warnings\n",
    "import nltk\n",
    "from nltk.corpus import stopwords\n",
    "warnings.filterwarnings(\"ignore\")\n",
    "headlines = pd.read_csv(\n",
    "    \"../data/india-news-headlines.csv\", parse_dates=[0], infer_datetime_format=True\n",
    ")\n",
    "headlines.head()"
   ]
  },
  {
   "cell_type": "code",
   "execution_count": 2,
   "id": "297f1f96-95e0-4e4a-90dd-561e69806d1f",
   "metadata": {},
   "outputs": [],
   "source": [
    "stop_words = set(stopwords.words('english'))\n",
    "\n",
    "def build_corpus(data):\n",
    "    corpus = []\n",
    "    for sentence in data.iteritems():\n",
    "        word_list = sentence[1].split(\" \")\n",
    "        word_list = [each_string.lower() for each_string in word_list]\n",
    "        filtered_sentence = [w for w in word_list if not w in stop_words]\n",
    "        corpus.append(filtered_sentence)\n",
    "    return corpus\n",
    "\n",
    "#corpus = build_corpus(headlines['headline_text'].astype(str))"
   ]
  },
  {
   "cell_type": "code",
   "execution_count": 3,
   "id": "2e203b36-f466-47b5-8e11-20eaa442de75",
   "metadata": {},
   "outputs": [],
   "source": [
    "def get_top_n_words(corpus, n=10):\n",
    "    vec = CountVectorizer(stop_words='english').fit(corpus)\n",
    "    bag_of_words = vec.transform(corpus)\n",
    "    sum_words = bag_of_words.sum(axis=0) \n",
    "    words_freq = [(word, sum_words[0, idx]) for word, idx in vec.vocabulary_.items()]\n",
    "    words_freq =sorted(words_freq, key = lambda x: x[1], reverse=True)\n",
    "    return words_freq[:n]"
   ]
  },
  {
   "cell_type": "code",
   "execution_count": 4,
   "id": "05497231-f516-4cf7-9e85-23a893ca4c0d",
   "metadata": {},
   "outputs": [],
   "source": [
    "#!pip install --upgrade gensim==3.8.3 --user\n",
    "from gensim.models import Word2Vec\n",
    "from sklearn.cluster import KMeans\n",
    "from sklearn import cluster, metrics, mixture\n",
    "from scipy.spatial.distance import cdist\n",
    "from collections import Counter"
   ]
  },
  {
   "cell_type": "code",
   "execution_count": 5,
   "id": "9852a9df-951f-49ff-a869-1d17794f67f2",
   "metadata": {},
   "outputs": [
    {
     "data": {
      "text/plain": [
       "Counter({7: 283, 4: 105, 6: 26, 0: 15873, 3: 658, 5: 2138, 1: 64, 2: 22})"
      ]
     },
     "metadata": {},
     "output_type": "display_data"
    }
   ],
   "source": [
    "year_month = '2020-04'\n",
    "headlines[\"month_year\"] = headlines[\"publish_date\"].dt.to_period(\"M\")\n",
    "corpus = build_corpus(headlines.loc[headlines['month_year'] == year_month].headline_text)\n",
    "model = Word2Vec(corpus, size=2500, min_count=1)\n",
    "\n",
    "vectors = model[model.wv.vocab]\n",
    "words = list(model.wv.vocab)\n",
    "X = pd.concat([pd.DataFrame(words, columns=['word']), pd.DataFrame(vectors)], axis=1)\n",
    "\n",
    "top100_frequencies = get_top_n_words(headlines.loc[headlines['month_year'] == year_month].headline_text, 100)\n",
    "top100 = [i[0] for i in top100_frequencies]\n",
    "\n",
    "kmeans = KMeans(n_clusters=8, random_state=0).fit(X.drop(['word'], axis=1))\n",
    "\n",
    "X_ = pd.concat([X, pd.DataFrame(kmeans.labels_, columns=['label'], index=X.index)], axis=1)\n",
    "\n",
    "X100 = X_[X_['word'].isin(top100)]\n",
    "\n",
    "dct = {}\n",
    "for label in X_.label.unique():\n",
    "    dct[f'cluster_{label}'] = (X100['word'].loc[X100['label'] == label].tolist())\n",
    "display(Counter(kmeans.labels_))\n",
    "#display(dct)"
   ]
  },
  {
   "cell_type": "code",
   "execution_count": 6,
   "id": "a6251971-5867-4abd-98c8-c7c033881d26",
   "metadata": {},
   "outputs": [],
   "source": [
    "from sklearn.decomposition import PCA\n",
    "\n",
    "# fit a 2d PCA model to the vectors\n",
    "\n",
    "pca = PCA(n_components=2)\n",
    "PCA_result = pca.fit_transform(vectors)\n",
    "# prepare a dataframe\n",
    "words = pd.DataFrame(words)\n",
    "PCA_result = pd.DataFrame(PCA_result)\n",
    "PCA_result['x_values'] =PCA_result.iloc[0:, 0]\n",
    "PCA_result['y_values'] =PCA_result.iloc[0:, 1]\n",
    "PCA_final = pd.merge(words, PCA_result, left_index=True, right_index=True)\n",
    "PCA_final['word'] =PCA_final.iloc[0:, 0]\n",
    "clusters = pd.DataFrame(kmeans.labels_, columns=['label'], index=PCA_final.index)\n",
    "PCA_data_complet = pd.concat([PCA_final[['word','x_values','y_values']], clusters], axis=1)\n",
    "PCA_data_complet100 = PCA_data_complet[PCA_data_complet['word'].isin(top100)]"
   ]
  },
  {
   "cell_type": "code",
   "execution_count": 13,
   "id": "7bcfaaf1-7d47-4558-9528-9b555a1b2ee1",
   "metadata": {},
   "outputs": [
    {
     "data": {
      "application/vnd.plotly.v1+json": {
       "config": {
        "plotlyServerURL": "https://plot.ly"
       },
       "data": [
        {
         "hovertemplate": "<b>%{hovertext}</b><br><br>label=6<br>x_values=%{x}<br>y_values=%{y}<extra></extra>",
         "hovertext": [
          "april",
          "corona",
          "food",
          "woman",
          "hospital",
          "quarantine",
          "lakh",
          "positive",
          "city",
          "health",
          "government",
          "patients",
          "staff",
          "booked",
          "social",
          "held",
          "gets",
          "state",
          "tests",
          "online",
          "tamil",
          "students"
         ],
         "legendgroup": "6",
         "marker": {
          "color": "#636efa",
          "symbol": "circle"
         },
         "mode": "markers",
         "name": "6",
         "orientation": "v",
         "showlegend": true,
         "type": "scatter",
         "x": [
          0.8979313373565674,
          1.0206105709075928,
          1.0242959260940552,
          0.8764731884002686,
          1.1289911270141602,
          1.037305235862732,
          0.8698136806488037,
          1.12662935256958,
          1.1069459915161133,
          1.0907158851623535,
          1.0104113817214966,
          1.1823432445526123,
          0.9851722121238708,
          1.1359657049179077,
          0.9483064413070679,
          1.1646615266799927,
          0.9779255986213684,
          0.878061056137085,
          1.241026759147644,
          1.0977343320846558,
          1.1446483135223389,
          0.9066286683082581
         ],
         "xaxis": "x",
         "y": [
          -0.003335511079058051,
          0.0015070901717990637,
          -0.004247360862791538,
          0.0026704841293394566,
          0.0022609764710068703,
          -0.002751545514911413,
          -0.004271725658327341,
          0.02781864069402218,
          -0.0017260706517845392,
          -0.00320484209805727,
          -0.003914027940481901,
          0.0048213922418653965,
          -0.001238265074789524,
          -0.0017929956084117293,
          -0.005710260011255741,
          -0.0009577847085893154,
          -0.0004240362031850964,
          -0.0013594427146017551,
          0.024496866390109062,
          -0.003957323729991913,
          0.00791867170482874,
          -0.00423188554123044
         ],
         "yaxis": "y"
        },
        {
         "hovertemplate": "<b>%{hovertext}</b><br><br>label=1<br>x_values=%{x}<br>y_values=%{y}<extra></extra>",
         "hovertext": [
          "day",
          "isolation",
          "dies",
          "centre",
          "quarantined",
          "arrested",
          "case",
          "tablighi",
          "jamaat",
          "virus",
          "fight",
          "doctors",
          "patient",
          "family",
          "residents",
          "days",
          "hit",
          "pm",
          "relief",
          "andhra",
          "district",
          "pradesh",
          "farmers",
          "supply",
          "delhi",
          "hospitals",
          "testing",
          "goa",
          "work",
          "amid",
          "say",
          "kits",
          "telangana",
          "make",
          "masks",
          "stranded",
          "tally",
          "rajasthan",
          "face",
          "hc",
          "india",
          "death"
         ],
         "legendgroup": "1",
         "marker": {
          "color": "#EF553B",
          "symbol": "circle"
         },
         "mode": "markers",
         "name": "1",
         "orientation": "v",
         "showlegend": true,
         "type": "scatter",
         "x": [
          0.7536888718605042,
          0.6426084637641907,
          0.6373406052589417,
          0.5758333206176758,
          0.6665460467338562,
          0.6569960713386536,
          0.6427014470100403,
          0.7187202572822571,
          0.6614330410957336,
          0.6167958378791809,
          0.7031635046005249,
          0.6920694708824158,
          0.6937307119369507,
          0.5719152688980103,
          0.6977487802505493,
          0.6798495650291443,
          0.5359601378440857,
          0.5453108549118042,
          0.6410337686538696,
          0.6287903785705566,
          0.6645728945732117,
          0.811455488204956,
          0.6237965226173401,
          0.6368091106414795,
          0.7984129190444946,
          0.5718087553977966,
          0.7978947758674622,
          0.6384208798408508,
          0.6340632438659668,
          0.7009545564651489,
          0.7044277787208557,
          0.564205527305603,
          0.5421420931816101,
          0.7214177846908569,
          0.7412152290344238,
          0.6109138131141663,
          0.5802775621414185,
          0.5606520175933838,
          0.6727648377418518,
          0.5677586793899536,
          0.5667737126350403,
          0.6798105835914612
         ],
         "xaxis": "x",
         "y": [
          0.002663591643795371,
          -0.0009917813586071134,
          0.0018635167507454753,
          -0.0020132518839091063,
          0.001168348710052669,
          3.795460725086741e-05,
          0.007086017169058323,
          0.007452338933944702,
          0.007403803523629904,
          -0.0008180388249456882,
          0.0005541985738091171,
          -0.0010518196504563093,
          0.005177003797143698,
          0.0013537131017073989,
          -0.001914230757392943,
          0.0011270022951066494,
          -0.001990877790376544,
          -0.0028985345270484686,
          -0.0022303806617856026,
          -0.0006855964893475175,
          0.0015678602503612638,
          0.00010126996494363993,
          -0.0020056685898452997,
          -0.0026046668644994497,
          -0.0011307239765301347,
          0.0007702960865572095,
          0.00205323682166636,
          -0.0018856291426345706,
          -0.0021478671114891768,
          -0.003115365980193019,
          -0.0036033489741384983,
          0.0009910570224747062,
          -0.0023248849902302027,
          -0.0024825644213706255,
          -0.0031736367382109165,
          -0.0037515361327677965,
          0.00748393964022398,
          -0.0007332614040933549,
          -0.0027846507728099823,
          -0.002809493336826563,
          -0.0013419012539088726,
          0.0026003392413258553
         ],
         "yaxis": "y"
        },
        {
         "hovertemplate": "<b>%{hovertext}</b><br><br>label=2<br>x_values=%{x}<br>y_values=%{y}<extra></extra>",
         "hovertext": [
          "help",
          "workers",
          "lockdown",
          "coronavirus",
          "rs",
          "man",
          "home",
          "covid",
          "govt",
          "police",
          "cases",
          "cm",
          "cops",
          "test",
          "people",
          "says",
          "new"
         ],
         "legendgroup": "2",
         "marker": {
          "color": "#00cc96",
          "symbol": "circle"
         },
         "mode": "markers",
         "name": "2",
         "orientation": "v",
         "showlegend": true,
         "type": "scatter",
         "x": [
          1.3833723068237305,
          1.469182014465332,
          2.115048408508301,
          1.3544807434082031,
          2.0220437049865723,
          1.4775267839431763,
          1.4929348230361938,
          1.6294771432876587,
          1.4748767614364624,
          1.549474835395813,
          1.617079496383667,
          1.5196733474731445,
          1.5084985494613647,
          1.5143460035324097,
          1.505742073059082,
          1.5493448972702026,
          1.451673150062561
         ],
         "xaxis": "x",
         "y": [
          -0.0076902443543076515,
          -0.00591193838045001,
          -0.009029409848153591,
          0.004002132453024387,
          -0.009368181228637695,
          0.0023049036972224712,
          -0.0051784636452794075,
          0.005474205128848553,
          -0.005572567693889141,
          -0.004817734006792307,
          0.019264044240117073,
          -0.006625127978622913,
          -0.003247761633247137,
          0.031860701739788055,
          -0.004232877399772406,
          -0.004196937195956707,
          0.009655424393713474
         ],
         "yaxis": "y"
        },
        {
         "hovertemplate": "<b>%{hovertext}</b><br><br>label=7<br>x_values=%{x}<br>y_values=%{y}<extra></extra>",
         "hovertext": [
          "kolkata",
          "year",
          "ahmedabad",
          "bengal",
          "19"
         ],
         "legendgroup": "7",
         "marker": {
          "color": "#ab63fa",
          "symbol": "circle"
         },
         "mode": "markers",
         "name": "7",
         "orientation": "v",
         "showlegend": true,
         "type": "scatter",
         "x": [
          0.2896447479724884,
          0.1858719140291214,
          0.2715989351272583,
          0.27703189849853516,
          0.2087416648864746
         ],
         "xaxis": "x",
         "y": [
          -0.00048334471648558974,
          8.909645111998543e-05,
          -0.00021109494264237583,
          -0.0010262111900374293,
          0.002526917727664113
         ],
         "yaxis": "y"
        },
        {
         "hovertemplate": "<b>%{hovertext}</b><br><br>label=4<br>x_values=%{x}<br>y_values=%{y}<extra></extra>",
         "hovertext": [
          "bihar",
          "areas",
          "maharashtra",
          "karnataka",
          "10",
          "pune",
          "hyderabad",
          "nadu",
          "gujarat",
          "mumbai",
          "cop"
         ],
         "legendgroup": "4",
         "marker": {
          "color": "#FFA15A",
          "symbol": "circle"
         },
         "mode": "markers",
         "name": "4",
         "orientation": "v",
         "showlegend": true,
         "type": "scatter",
         "x": [
          0.36462321877479553,
          0.4968726336956024,
          0.4151172935962677,
          0.334486722946167,
          0.49650007486343384,
          0.4461812674999237,
          0.4586602747440338,
          0.44524428248405457,
          0.4935327470302582,
          0.4255267083644867,
          0.5129116177558899
         ],
         "xaxis": "x",
         "y": [
          -0.0007449387921951711,
          0.0008146304171532393,
          -0.000402752251829952,
          -0.0009268503054045141,
          0.0014374895254150033,
          3.899934017681517e-05,
          -0.0007996474159881473,
          0.0026797188911587,
          -0.0011863622348755598,
          -3.990241384599358e-05,
          0.00017023419786710292
         ],
         "yaxis": "y"
        },
        {
         "hovertemplate": "<b>%{hovertext}</b><br><br>label=3<br>x_values=%{x}<br>y_values=%{y}<extra></extra>",
         "hovertext": [
          "old"
         ],
         "legendgroup": "3",
         "marker": {
          "color": "#19d3f3",
          "symbol": "circle"
         },
         "mode": "markers",
         "name": "3",
         "orientation": "v",
         "showlegend": true,
         "type": "scatter",
         "x": [
          0.15234915912151337
         ],
         "xaxis": "x",
         "y": [
          9.764221613295376e-05
         ],
         "yaxis": "y"
        }
       ],
       "layout": {
        "height": 400,
        "legend": {
         "title": {
          "text": "label"
         },
         "tracegroupgap": 0
        },
        "margin": {
         "t": 60
        },
        "template": {
         "data": {
          "bar": [
           {
            "error_x": {
             "color": "#2a3f5f"
            },
            "error_y": {
             "color": "#2a3f5f"
            },
            "marker": {
             "line": {
              "color": "#E5ECF6",
              "width": 0.5
             },
             "pattern": {
              "fillmode": "overlay",
              "size": 10,
              "solidity": 0.2
             }
            },
            "type": "bar"
           }
          ],
          "barpolar": [
           {
            "marker": {
             "line": {
              "color": "#E5ECF6",
              "width": 0.5
             },
             "pattern": {
              "fillmode": "overlay",
              "size": 10,
              "solidity": 0.2
             }
            },
            "type": "barpolar"
           }
          ],
          "carpet": [
           {
            "aaxis": {
             "endlinecolor": "#2a3f5f",
             "gridcolor": "white",
             "linecolor": "white",
             "minorgridcolor": "white",
             "startlinecolor": "#2a3f5f"
            },
            "baxis": {
             "endlinecolor": "#2a3f5f",
             "gridcolor": "white",
             "linecolor": "white",
             "minorgridcolor": "white",
             "startlinecolor": "#2a3f5f"
            },
            "type": "carpet"
           }
          ],
          "choropleth": [
           {
            "colorbar": {
             "outlinewidth": 0,
             "ticks": ""
            },
            "type": "choropleth"
           }
          ],
          "contour": [
           {
            "colorbar": {
             "outlinewidth": 0,
             "ticks": ""
            },
            "colorscale": [
             [
              0,
              "#0d0887"
             ],
             [
              0.1111111111111111,
              "#46039f"
             ],
             [
              0.2222222222222222,
              "#7201a8"
             ],
             [
              0.3333333333333333,
              "#9c179e"
             ],
             [
              0.4444444444444444,
              "#bd3786"
             ],
             [
              0.5555555555555556,
              "#d8576b"
             ],
             [
              0.6666666666666666,
              "#ed7953"
             ],
             [
              0.7777777777777778,
              "#fb9f3a"
             ],
             [
              0.8888888888888888,
              "#fdca26"
             ],
             [
              1,
              "#f0f921"
             ]
            ],
            "type": "contour"
           }
          ],
          "contourcarpet": [
           {
            "colorbar": {
             "outlinewidth": 0,
             "ticks": ""
            },
            "type": "contourcarpet"
           }
          ],
          "heatmap": [
           {
            "colorbar": {
             "outlinewidth": 0,
             "ticks": ""
            },
            "colorscale": [
             [
              0,
              "#0d0887"
             ],
             [
              0.1111111111111111,
              "#46039f"
             ],
             [
              0.2222222222222222,
              "#7201a8"
             ],
             [
              0.3333333333333333,
              "#9c179e"
             ],
             [
              0.4444444444444444,
              "#bd3786"
             ],
             [
              0.5555555555555556,
              "#d8576b"
             ],
             [
              0.6666666666666666,
              "#ed7953"
             ],
             [
              0.7777777777777778,
              "#fb9f3a"
             ],
             [
              0.8888888888888888,
              "#fdca26"
             ],
             [
              1,
              "#f0f921"
             ]
            ],
            "type": "heatmap"
           }
          ],
          "heatmapgl": [
           {
            "colorbar": {
             "outlinewidth": 0,
             "ticks": ""
            },
            "colorscale": [
             [
              0,
              "#0d0887"
             ],
             [
              0.1111111111111111,
              "#46039f"
             ],
             [
              0.2222222222222222,
              "#7201a8"
             ],
             [
              0.3333333333333333,
              "#9c179e"
             ],
             [
              0.4444444444444444,
              "#bd3786"
             ],
             [
              0.5555555555555556,
              "#d8576b"
             ],
             [
              0.6666666666666666,
              "#ed7953"
             ],
             [
              0.7777777777777778,
              "#fb9f3a"
             ],
             [
              0.8888888888888888,
              "#fdca26"
             ],
             [
              1,
              "#f0f921"
             ]
            ],
            "type": "heatmapgl"
           }
          ],
          "histogram": [
           {
            "marker": {
             "pattern": {
              "fillmode": "overlay",
              "size": 10,
              "solidity": 0.2
             }
            },
            "type": "histogram"
           }
          ],
          "histogram2d": [
           {
            "colorbar": {
             "outlinewidth": 0,
             "ticks": ""
            },
            "colorscale": [
             [
              0,
              "#0d0887"
             ],
             [
              0.1111111111111111,
              "#46039f"
             ],
             [
              0.2222222222222222,
              "#7201a8"
             ],
             [
              0.3333333333333333,
              "#9c179e"
             ],
             [
              0.4444444444444444,
              "#bd3786"
             ],
             [
              0.5555555555555556,
              "#d8576b"
             ],
             [
              0.6666666666666666,
              "#ed7953"
             ],
             [
              0.7777777777777778,
              "#fb9f3a"
             ],
             [
              0.8888888888888888,
              "#fdca26"
             ],
             [
              1,
              "#f0f921"
             ]
            ],
            "type": "histogram2d"
           }
          ],
          "histogram2dcontour": [
           {
            "colorbar": {
             "outlinewidth": 0,
             "ticks": ""
            },
            "colorscale": [
             [
              0,
              "#0d0887"
             ],
             [
              0.1111111111111111,
              "#46039f"
             ],
             [
              0.2222222222222222,
              "#7201a8"
             ],
             [
              0.3333333333333333,
              "#9c179e"
             ],
             [
              0.4444444444444444,
              "#bd3786"
             ],
             [
              0.5555555555555556,
              "#d8576b"
             ],
             [
              0.6666666666666666,
              "#ed7953"
             ],
             [
              0.7777777777777778,
              "#fb9f3a"
             ],
             [
              0.8888888888888888,
              "#fdca26"
             ],
             [
              1,
              "#f0f921"
             ]
            ],
            "type": "histogram2dcontour"
           }
          ],
          "mesh3d": [
           {
            "colorbar": {
             "outlinewidth": 0,
             "ticks": ""
            },
            "type": "mesh3d"
           }
          ],
          "parcoords": [
           {
            "line": {
             "colorbar": {
              "outlinewidth": 0,
              "ticks": ""
             }
            },
            "type": "parcoords"
           }
          ],
          "pie": [
           {
            "automargin": true,
            "type": "pie"
           }
          ],
          "scatter": [
           {
            "marker": {
             "colorbar": {
              "outlinewidth": 0,
              "ticks": ""
             }
            },
            "type": "scatter"
           }
          ],
          "scatter3d": [
           {
            "line": {
             "colorbar": {
              "outlinewidth": 0,
              "ticks": ""
             }
            },
            "marker": {
             "colorbar": {
              "outlinewidth": 0,
              "ticks": ""
             }
            },
            "type": "scatter3d"
           }
          ],
          "scattercarpet": [
           {
            "marker": {
             "colorbar": {
              "outlinewidth": 0,
              "ticks": ""
             }
            },
            "type": "scattercarpet"
           }
          ],
          "scattergeo": [
           {
            "marker": {
             "colorbar": {
              "outlinewidth": 0,
              "ticks": ""
             }
            },
            "type": "scattergeo"
           }
          ],
          "scattergl": [
           {
            "marker": {
             "colorbar": {
              "outlinewidth": 0,
              "ticks": ""
             }
            },
            "type": "scattergl"
           }
          ],
          "scattermapbox": [
           {
            "marker": {
             "colorbar": {
              "outlinewidth": 0,
              "ticks": ""
             }
            },
            "type": "scattermapbox"
           }
          ],
          "scatterpolar": [
           {
            "marker": {
             "colorbar": {
              "outlinewidth": 0,
              "ticks": ""
             }
            },
            "type": "scatterpolar"
           }
          ],
          "scatterpolargl": [
           {
            "marker": {
             "colorbar": {
              "outlinewidth": 0,
              "ticks": ""
             }
            },
            "type": "scatterpolargl"
           }
          ],
          "scatterternary": [
           {
            "marker": {
             "colorbar": {
              "outlinewidth": 0,
              "ticks": ""
             }
            },
            "type": "scatterternary"
           }
          ],
          "surface": [
           {
            "colorbar": {
             "outlinewidth": 0,
             "ticks": ""
            },
            "colorscale": [
             [
              0,
              "#0d0887"
             ],
             [
              0.1111111111111111,
              "#46039f"
             ],
             [
              0.2222222222222222,
              "#7201a8"
             ],
             [
              0.3333333333333333,
              "#9c179e"
             ],
             [
              0.4444444444444444,
              "#bd3786"
             ],
             [
              0.5555555555555556,
              "#d8576b"
             ],
             [
              0.6666666666666666,
              "#ed7953"
             ],
             [
              0.7777777777777778,
              "#fb9f3a"
             ],
             [
              0.8888888888888888,
              "#fdca26"
             ],
             [
              1,
              "#f0f921"
             ]
            ],
            "type": "surface"
           }
          ],
          "table": [
           {
            "cells": {
             "fill": {
              "color": "#EBF0F8"
             },
             "line": {
              "color": "white"
             }
            },
            "header": {
             "fill": {
              "color": "#C8D4E3"
             },
             "line": {
              "color": "white"
             }
            },
            "type": "table"
           }
          ]
         },
         "layout": {
          "annotationdefaults": {
           "arrowcolor": "#2a3f5f",
           "arrowhead": 0,
           "arrowwidth": 1
          },
          "autotypenumbers": "strict",
          "coloraxis": {
           "colorbar": {
            "outlinewidth": 0,
            "ticks": ""
           }
          },
          "colorscale": {
           "diverging": [
            [
             0,
             "#8e0152"
            ],
            [
             0.1,
             "#c51b7d"
            ],
            [
             0.2,
             "#de77ae"
            ],
            [
             0.3,
             "#f1b6da"
            ],
            [
             0.4,
             "#fde0ef"
            ],
            [
             0.5,
             "#f7f7f7"
            ],
            [
             0.6,
             "#e6f5d0"
            ],
            [
             0.7,
             "#b8e186"
            ],
            [
             0.8,
             "#7fbc41"
            ],
            [
             0.9,
             "#4d9221"
            ],
            [
             1,
             "#276419"
            ]
           ],
           "sequential": [
            [
             0,
             "#0d0887"
            ],
            [
             0.1111111111111111,
             "#46039f"
            ],
            [
             0.2222222222222222,
             "#7201a8"
            ],
            [
             0.3333333333333333,
             "#9c179e"
            ],
            [
             0.4444444444444444,
             "#bd3786"
            ],
            [
             0.5555555555555556,
             "#d8576b"
            ],
            [
             0.6666666666666666,
             "#ed7953"
            ],
            [
             0.7777777777777778,
             "#fb9f3a"
            ],
            [
             0.8888888888888888,
             "#fdca26"
            ],
            [
             1,
             "#f0f921"
            ]
           ],
           "sequentialminus": [
            [
             0,
             "#0d0887"
            ],
            [
             0.1111111111111111,
             "#46039f"
            ],
            [
             0.2222222222222222,
             "#7201a8"
            ],
            [
             0.3333333333333333,
             "#9c179e"
            ],
            [
             0.4444444444444444,
             "#bd3786"
            ],
            [
             0.5555555555555556,
             "#d8576b"
            ],
            [
             0.6666666666666666,
             "#ed7953"
            ],
            [
             0.7777777777777778,
             "#fb9f3a"
            ],
            [
             0.8888888888888888,
             "#fdca26"
            ],
            [
             1,
             "#f0f921"
            ]
           ]
          },
          "colorway": [
           "#636efa",
           "#EF553B",
           "#00cc96",
           "#ab63fa",
           "#FFA15A",
           "#19d3f3",
           "#FF6692",
           "#B6E880",
           "#FF97FF",
           "#FECB52"
          ],
          "font": {
           "color": "#2a3f5f"
          },
          "geo": {
           "bgcolor": "white",
           "lakecolor": "white",
           "landcolor": "#E5ECF6",
           "showlakes": true,
           "showland": true,
           "subunitcolor": "white"
          },
          "hoverlabel": {
           "align": "left"
          },
          "hovermode": "closest",
          "mapbox": {
           "style": "light"
          },
          "paper_bgcolor": "white",
          "plot_bgcolor": "#E5ECF6",
          "polar": {
           "angularaxis": {
            "gridcolor": "white",
            "linecolor": "white",
            "ticks": ""
           },
           "bgcolor": "#E5ECF6",
           "radialaxis": {
            "gridcolor": "white",
            "linecolor": "white",
            "ticks": ""
           }
          },
          "scene": {
           "xaxis": {
            "backgroundcolor": "#E5ECF6",
            "gridcolor": "white",
            "gridwidth": 2,
            "linecolor": "white",
            "showbackground": true,
            "ticks": "",
            "zerolinecolor": "white"
           },
           "yaxis": {
            "backgroundcolor": "#E5ECF6",
            "gridcolor": "white",
            "gridwidth": 2,
            "linecolor": "white",
            "showbackground": true,
            "ticks": "",
            "zerolinecolor": "white"
           },
           "zaxis": {
            "backgroundcolor": "#E5ECF6",
            "gridcolor": "white",
            "gridwidth": 2,
            "linecolor": "white",
            "showbackground": true,
            "ticks": "",
            "zerolinecolor": "white"
           }
          },
          "shapedefaults": {
           "line": {
            "color": "#2a3f5f"
           }
          },
          "ternary": {
           "aaxis": {
            "gridcolor": "white",
            "linecolor": "white",
            "ticks": ""
           },
           "baxis": {
            "gridcolor": "white",
            "linecolor": "white",
            "ticks": ""
           },
           "bgcolor": "#E5ECF6",
           "caxis": {
            "gridcolor": "white",
            "linecolor": "white",
            "ticks": ""
           }
          },
          "title": {
           "x": 0.05
          },
          "xaxis": {
           "automargin": true,
           "gridcolor": "white",
           "linecolor": "white",
           "ticks": "",
           "title": {
            "standoff": 15
           },
           "zerolinecolor": "white",
           "zerolinewidth": 2
          },
          "yaxis": {
           "automargin": true,
           "gridcolor": "white",
           "linecolor": "white",
           "ticks": "",
           "title": {
            "standoff": 15
           },
           "zerolinecolor": "white",
           "zerolinewidth": 2
          }
         }
        },
        "width": 500,
        "xaxis": {
         "anchor": "y",
         "autorange": true,
         "domain": [
          0,
          1
         ],
         "range": [
          0.01591361665995278,
          2.2514839509698614
         ],
         "title": {
          "text": "x_values"
         },
         "type": "linear"
        },
        "yaxis": {
         "anchor": "x",
         "autorange": true,
         "domain": [
          0,
          1
         ],
         "range": [
          -0.012417116282594124,
          0.03490963679374449
         ],
         "title": {
          "text": "y_values"
         },
         "type": "linear"
        }
       }
      },
      "image/png": "[encoded data removed]",
      "text/html": [
       "<div>                            <div id=\"c305799b-5800-4f7d-9c52-6670cb7d7284\" class=\"plotly-graph-div\" style=\"height:400px; width:500px;\"></div>            <script type=\"text/javascript\">                require([\"plotly\"], function(Plotly) {                    window.PLOTLYENV=window.PLOTLYENV || {};                                    if (document.getElementById(\"c305799b-5800-4f7d-9c52-6670cb7d7284\")) {                    Plotly.newPlot(                        \"c305799b-5800-4f7d-9c52-6670cb7d7284\",                        [{\"hovertemplate\":\"<b>%{hovertext}</b><br><br>label=6<br>x_values=%{x}<br>y_values=%{y}<extra></extra>\",\"hovertext\":[\"april\",\"corona\",\"food\",\"woman\",\"hospital\",\"quarantine\",\"lakh\",\"positive\",\"city\",\"health\",\"government\",\"patients\",\"staff\",\"booked\",\"social\",\"held\",\"gets\",\"state\",\"tests\",\"online\",\"tamil\",\"students\"],\"legendgroup\":\"6\",\"marker\":{\"color\":\"#636efa\",\"symbol\":\"circle\"},\"mode\":\"markers\",\"name\":\"6\",\"orientation\":\"v\",\"showlegend\":true,\"x\":[0.8979313373565674,1.0206105709075928,1.0242959260940552,0.8764731884002686,1.1289911270141602,1.037305235862732,0.8698136806488037,1.12662935256958,1.1069459915161133,1.0907158851623535,1.0104113817214966,1.1823432445526123,0.9851722121238708,1.1359657049179077,0.9483064413070679,1.1646615266799927,0.9779255986213684,0.878061056137085,1.241026759147644,1.0977343320846558,1.1446483135223389,0.9066286683082581],\"xaxis\":\"x\",\"y\":[-0.003335511079058051,0.0015070901717990637,-0.004247360862791538,0.0026704841293394566,0.0022609764710068703,-0.002751545514911413,-0.004271725658327341,0.02781864069402218,-0.0017260706517845392,-0.00320484209805727,-0.003914027940481901,0.0048213922418653965,-0.001238265074789524,-0.0017929956084117293,-0.005710260011255741,-0.0009577847085893154,-0.0004240362031850964,-0.0013594427146017551,0.024496866390109062,-0.003957323729991913,0.00791867170482874,-0.00423188554123044],\"yaxis\":\"y\",\"type\":\"scatter\"},{\"hovertemplate\":\"<b>%{hovertext}</b><br><br>label=1<br>x_values=%{x}<br>y_values=%{y}<extra></extra>\",\"hovertext\":[\"day\",\"isolation\",\"dies\",\"centre\",\"quarantined\",\"arrested\",\"case\",\"tablighi\",\"jamaat\",\"virus\",\"fight\",\"doctors\",\"patient\",\"family\",\"residents\",\"days\",\"hit\",\"pm\",\"relief\",\"andhra\",\"district\",\"pradesh\",\"farmers\",\"supply\",\"delhi\",\"hospitals\",\"testing\",\"goa\",\"work\",\"amid\",\"say\",\"kits\",\"telangana\",\"make\",\"masks\",\"stranded\",\"tally\",\"rajasthan\",\"face\",\"hc\",\"india\",\"death\"],\"legendgroup\":\"1\",\"marker\":{\"color\":\"#EF553B\",\"symbol\":\"circle\"},\"mode\":\"markers\",\"name\":\"1\",\"orientation\":\"v\",\"showlegend\":true,\"x\":[0.7536888718605042,0.6426084637641907,0.6373406052589417,0.5758333206176758,0.6665460467338562,0.6569960713386536,0.6427014470100403,0.7187202572822571,0.6614330410957336,0.6167958378791809,0.7031635046005249,0.6920694708824158,0.6937307119369507,0.5719152688980103,0.6977487802505493,0.6798495650291443,0.5359601378440857,0.5453108549118042,0.6410337686538696,0.6287903785705566,0.6645728945732117,0.811455488204956,0.6237965226173401,0.6368091106414795,0.7984129190444946,0.5718087553977966,0.7978947758674622,0.6384208798408508,0.6340632438659668,0.7009545564651489,0.7044277787208557,0.564205527305603,0.5421420931816101,0.7214177846908569,0.7412152290344238,0.6109138131141663,0.5802775621414185,0.5606520175933838,0.6727648377418518,0.5677586793899536,0.5667737126350403,0.6798105835914612],\"xaxis\":\"x\",\"y\":[0.002663591643795371,-0.0009917813586071134,0.0018635167507454753,-0.0020132518839091063,0.001168348710052669,3.795460725086741e-05,0.007086017169058323,0.007452338933944702,0.007403803523629904,-0.0008180388249456882,0.0005541985738091171,-0.0010518196504563093,0.005177003797143698,0.0013537131017073989,-0.001914230757392943,0.0011270022951066494,-0.001990877790376544,-0.0028985345270484686,-0.0022303806617856026,-0.0006855964893475175,0.0015678602503612638,0.00010126996494363993,-0.0020056685898452997,-0.0026046668644994497,-0.0011307239765301347,0.0007702960865572095,0.00205323682166636,-0.0018856291426345706,-0.0021478671114891768,-0.003115365980193019,-0.0036033489741384983,0.0009910570224747062,-0.0023248849902302027,-0.0024825644213706255,-0.0031736367382109165,-0.0037515361327677965,0.00748393964022398,-0.0007332614040933549,-0.0027846507728099823,-0.002809493336826563,-0.0013419012539088726,0.0026003392413258553],\"yaxis\":\"y\",\"type\":\"scatter\"},{\"hovertemplate\":\"<b>%{hovertext}</b><br><br>label=2<br>x_values=%{x}<br>y_values=%{y}<extra></extra>\",\"hovertext\":[\"help\",\"workers\",\"lockdown\",\"coronavirus\",\"rs\",\"man\",\"home\",\"covid\",\"govt\",\"police\",\"cases\",\"cm\",\"cops\",\"test\",\"people\",\"says\",\"new\"],\"legendgroup\":\"2\",\"marker\":{\"color\":\"#00cc96\",\"symbol\":\"circle\"},\"mode\":\"markers\",\"name\":\"2\",\"orientation\":\"v\",\"showlegend\":true,\"x\":[1.3833723068237305,1.469182014465332,2.115048408508301,1.3544807434082031,2.0220437049865723,1.4775267839431763,1.4929348230361938,1.6294771432876587,1.4748767614364624,1.549474835395813,1.617079496383667,1.5196733474731445,1.5084985494613647,1.5143460035324097,1.505742073059082,1.5493448972702026,1.451673150062561],\"xaxis\":\"x\",\"y\":[-0.0076902443543076515,-0.00591193838045001,-0.009029409848153591,0.004002132453024387,-0.009368181228637695,0.0023049036972224712,-0.0051784636452794075,0.005474205128848553,-0.005572567693889141,-0.004817734006792307,0.019264044240117073,-0.006625127978622913,-0.003247761633247137,0.031860701739788055,-0.004232877399772406,-0.004196937195956707,0.009655424393713474],\"yaxis\":\"y\",\"type\":\"scatter\"},{\"hovertemplate\":\"<b>%{hovertext}</b><br><br>label=7<br>x_values=%{x}<br>y_values=%{y}<extra></extra>\",\"hovertext\":[\"kolkata\",\"year\",\"ahmedabad\",\"bengal\",\"19\"],\"legendgroup\":\"7\",\"marker\":{\"color\":\"#ab63fa\",\"symbol\":\"circle\"},\"mode\":\"markers\",\"name\":\"7\",\"orientation\":\"v\",\"showlegend\":true,\"x\":[0.2896447479724884,0.1858719140291214,0.2715989351272583,0.27703189849853516,0.2087416648864746],\"xaxis\":\"x\",\"y\":[-0.00048334471648558974,8.909645111998543e-05,-0.00021109494264237583,-0.0010262111900374293,0.002526917727664113],\"yaxis\":\"y\",\"type\":\"scatter\"},{\"hovertemplate\":\"<b>%{hovertext}</b><br><br>label=4<br>x_values=%{x}<br>y_values=%{y}<extra></extra>\",\"hovertext\":[\"bihar\",\"areas\",\"maharashtra\",\"karnataka\",\"10\",\"pune\",\"hyderabad\",\"nadu\",\"gujarat\",\"mumbai\",\"cop\"],\"legendgroup\":\"4\",\"marker\":{\"color\":\"#FFA15A\",\"symbol\":\"circle\"},\"mode\":\"markers\",\"name\":\"4\",\"orientation\":\"v\",\"showlegend\":true,\"x\":[0.36462321877479553,0.4968726336956024,0.4151172935962677,0.334486722946167,0.49650007486343384,0.4461812674999237,0.4586602747440338,0.44524428248405457,0.4935327470302582,0.4255267083644867,0.5129116177558899],\"xaxis\":\"x\",\"y\":[-0.0007449387921951711,0.0008146304171532393,-0.000402752251829952,-0.0009268503054045141,0.0014374895254150033,3.899934017681517e-05,-0.0007996474159881473,0.0026797188911587,-0.0011863622348755598,-3.990241384599358e-05,0.00017023419786710292],\"yaxis\":\"y\",\"type\":\"scatter\"},{\"hovertemplate\":\"<b>%{hovertext}</b><br><br>label=3<br>x_values=%{x}<br>y_values=%{y}<extra></extra>\",\"hovertext\":[\"old\"],\"legendgroup\":\"3\",\"marker\":{\"color\":\"#19d3f3\",\"symbol\":\"circle\"},\"mode\":\"markers\",\"name\":\"3\",\"orientation\":\"v\",\"showlegend\":true,\"x\":[0.15234915912151337],\"xaxis\":\"x\",\"y\":[9.764221613295376e-05],\"yaxis\":\"y\",\"type\":\"scatter\"}],                        {\"template\":{\"data\":{\"bar\":[{\"error_x\":{\"color\":\"#2a3f5f\"},\"error_y\":{\"color\":\"#2a3f5f\"},\"marker\":{\"line\":{\"color\":\"#E5ECF6\",\"width\":0.5},\"pattern\":{\"fillmode\":\"overlay\",\"size\":10,\"solidity\":0.2}},\"type\":\"bar\"}],\"barpolar\":[{\"marker\":{\"line\":{\"color\":\"#E5ECF6\",\"width\":0.5},\"pattern\":{\"fillmode\":\"overlay\",\"size\":10,\"solidity\":0.2}},\"type\":\"barpolar\"}],\"carpet\":[{\"aaxis\":{\"endlinecolor\":\"#2a3f5f\",\"gridcolor\":\"white\",\"linecolor\":\"white\",\"minorgridcolor\":\"white\",\"startlinecolor\":\"#2a3f5f\"},\"baxis\":{\"endlinecolor\":\"#2a3f5f\",\"gridcolor\":\"white\",\"linecolor\":\"white\",\"minorgridcolor\":\"white\",\"startlinecolor\":\"#2a3f5f\"},\"type\":\"carpet\"}],\"choropleth\":[{\"colorbar\":{\"outlinewidth\":0,\"ticks\":\"\"},\"type\":\"choropleth\"}],\"contour\":[{\"colorbar\":{\"outlinewidth\":0,\"ticks\":\"\"},\"colorscale\":[[0.0,\"#0d0887\"],[0.1111111111111111,\"#46039f\"],[0.2222222222222222,\"#7201a8\"],[0.3333333333333333,\"#9c179e\"],[0.4444444444444444,\"#bd3786\"],[0.5555555555555556,\"#d8576b\"],[0.6666666666666666,\"#ed7953\"],[0.7777777777777778,\"#fb9f3a\"],[0.8888888888888888,\"#fdca26\"],[1.0,\"#f0f921\"]],\"type\":\"contour\"}],\"contourcarpet\":[{\"colorbar\":{\"outlinewidth\":0,\"ticks\":\"\"},\"type\":\"contourcarpet\"}],\"heatmap\":[{\"colorbar\":{\"outlinewidth\":0,\"ticks\":\"\"},\"colorscale\":[[0.0,\"#0d0887\"],[0.1111111111111111,\"#46039f\"],[0.2222222222222222,\"#7201a8\"],[0.3333333333333333,\"#9c179e\"],[0.4444444444444444,\"#bd3786\"],[0.5555555555555556,\"#d8576b\"],[0.6666666666666666,\"#ed7953\"],[0.7777777777777778,\"#fb9f3a\"],[0.8888888888888888,\"#fdca26\"],[1.0,\"#f0f921\"]],\"type\":\"heatmap\"}],\"heatmapgl\":[{\"colorbar\":{\"outlinewidth\":0,\"ticks\":\"\"},\"colorscale\":[[0.0,\"#0d0887\"],[0.1111111111111111,\"#46039f\"],[0.2222222222222222,\"#7201a8\"],[0.3333333333333333,\"#9c179e\"],[0.4444444444444444,\"#bd3786\"],[0.5555555555555556,\"#d8576b\"],[0.6666666666666666,\"#ed7953\"],[0.7777777777777778,\"#fb9f3a\"],[0.8888888888888888,\"#fdca26\"],[1.0,\"#f0f921\"]],\"type\":\"heatmapgl\"}],\"histogram\":[{\"marker\":{\"pattern\":{\"fillmode\":\"overlay\",\"size\":10,\"solidity\":0.2}},\"type\":\"histogram\"}],\"histogram2d\":[{\"colorbar\":{\"outlinewidth\":0,\"ticks\":\"\"},\"colorscale\":[[0.0,\"#0d0887\"],[0.1111111111111111,\"#46039f\"],[0.2222222222222222,\"#7201a8\"],[0.3333333333333333,\"#9c179e\"],[0.4444444444444444,\"#bd3786\"],[0.5555555555555556,\"#d8576b\"],[0.6666666666666666,\"#ed7953\"],[0.7777777777777778,\"#fb9f3a\"],[0.8888888888888888,\"#fdca26\"],[1.0,\"#f0f921\"]],\"type\":\"histogram2d\"}],\"histogram2dcontour\":[{\"colorbar\":{\"outlinewidth\":0,\"ticks\":\"\"},\"colorscale\":[[0.0,\"#0d0887\"],[0.1111111111111111,\"#46039f\"],[0.2222222222222222,\"#7201a8\"],[0.3333333333333333,\"#9c179e\"],[0.4444444444444444,\"#bd3786\"],[0.5555555555555556,\"#d8576b\"],[0.6666666666666666,\"#ed7953\"],[0.7777777777777778,\"#fb9f3a\"],[0.8888888888888888,\"#fdca26\"],[1.0,\"#f0f921\"]],\"type\":\"histogram2dcontour\"}],\"mesh3d\":[{\"colorbar\":{\"outlinewidth\":0,\"ticks\":\"\"},\"type\":\"mesh3d\"}],\"parcoords\":[{\"line\":{\"colorbar\":{\"outlinewidth\":0,\"ticks\":\"\"}},\"type\":\"parcoords\"}],\"pie\":[{\"automargin\":true,\"type\":\"pie\"}],\"scatter\":[{\"marker\":{\"colorbar\":{\"outlinewidth\":0,\"ticks\":\"\"}},\"type\":\"scatter\"}],\"scatter3d\":[{\"line\":{\"colorbar\":{\"outlinewidth\":0,\"ticks\":\"\"}},\"marker\":{\"colorbar\":{\"outlinewidth\":0,\"ticks\":\"\"}},\"type\":\"scatter3d\"}],\"scattercarpet\":[{\"marker\":{\"colorbar\":{\"outlinewidth\":0,\"ticks\":\"\"}},\"type\":\"scattercarpet\"}],\"scattergeo\":[{\"marker\":{\"colorbar\":{\"outlinewidth\":0,\"ticks\":\"\"}},\"type\":\"scattergeo\"}],\"scattergl\":[{\"marker\":{\"colorbar\":{\"outlinewidth\":0,\"ticks\":\"\"}},\"type\":\"scattergl\"}],\"scattermapbox\":[{\"marker\":{\"colorbar\":{\"outlinewidth\":0,\"ticks\":\"\"}},\"type\":\"scattermapbox\"}],\"scatterpolar\":[{\"marker\":{\"colorbar\":{\"outlinewidth\":0,\"ticks\":\"\"}},\"type\":\"scatterpolar\"}],\"scatterpolargl\":[{\"marker\":{\"colorbar\":{\"outlinewidth\":0,\"ticks\":\"\"}},\"type\":\"scatterpolargl\"}],\"scatterternary\":[{\"marker\":{\"colorbar\":{\"outlinewidth\":0,\"ticks\":\"\"}},\"type\":\"scatterternary\"}],\"surface\":[{\"colorbar\":{\"outlinewidth\":0,\"ticks\":\"\"},\"colorscale\":[[0.0,\"#0d0887\"],[0.1111111111111111,\"#46039f\"],[0.2222222222222222,\"#7201a8\"],[0.3333333333333333,\"#9c179e\"],[0.4444444444444444,\"#bd3786\"],[0.5555555555555556,\"#d8576b\"],[0.6666666666666666,\"#ed7953\"],[0.7777777777777778,\"#fb9f3a\"],[0.8888888888888888,\"#fdca26\"],[1.0,\"#f0f921\"]],\"type\":\"surface\"}],\"table\":[{\"cells\":{\"fill\":{\"color\":\"#EBF0F8\"},\"line\":{\"color\":\"white\"}},\"header\":{\"fill\":{\"color\":\"#C8D4E3\"},\"line\":{\"color\":\"white\"}},\"type\":\"table\"}]},\"layout\":{\"annotationdefaults\":{\"arrowcolor\":\"#2a3f5f\",\"arrowhead\":0,\"arrowwidth\":1},\"autotypenumbers\":\"strict\",\"coloraxis\":{\"colorbar\":{\"outlinewidth\":0,\"ticks\":\"\"}},\"colorscale\":{\"diverging\":[[0,\"#8e0152\"],[0.1,\"#c51b7d\"],[0.2,\"#de77ae\"],[0.3,\"#f1b6da\"],[0.4,\"#fde0ef\"],[0.5,\"#f7f7f7\"],[0.6,\"#e6f5d0\"],[0.7,\"#b8e186\"],[0.8,\"#7fbc41\"],[0.9,\"#4d9221\"],[1,\"#276419\"]],\"sequential\":[[0.0,\"#0d0887\"],[0.1111111111111111,\"#46039f\"],[0.2222222222222222,\"#7201a8\"],[0.3333333333333333,\"#9c179e\"],[0.4444444444444444,\"#bd3786\"],[0.5555555555555556,\"#d8576b\"],[0.6666666666666666,\"#ed7953\"],[0.7777777777777778,\"#fb9f3a\"],[0.8888888888888888,\"#fdca26\"],[1.0,\"#f0f921\"]],\"sequentialminus\":[[0.0,\"#0d0887\"],[0.1111111111111111,\"#46039f\"],[0.2222222222222222,\"#7201a8\"],[0.3333333333333333,\"#9c179e\"],[0.4444444444444444,\"#bd3786\"],[0.5555555555555556,\"#d8576b\"],[0.6666666666666666,\"#ed7953\"],[0.7777777777777778,\"#fb9f3a\"],[0.8888888888888888,\"#fdca26\"],[1.0,\"#f0f921\"]]},\"colorway\":[\"#636efa\",\"#EF553B\",\"#00cc96\",\"#ab63fa\",\"#FFA15A\",\"#19d3f3\",\"#FF6692\",\"#B6E880\",\"#FF97FF\",\"#FECB52\"],\"font\":{\"color\":\"#2a3f5f\"},\"geo\":{\"bgcolor\":\"white\",\"lakecolor\":\"white\",\"landcolor\":\"#E5ECF6\",\"showlakes\":true,\"showland\":true,\"subunitcolor\":\"white\"},\"hoverlabel\":{\"align\":\"left\"},\"hovermode\":\"closest\",\"mapbox\":{\"style\":\"light\"},\"paper_bgcolor\":\"white\",\"plot_bgcolor\":\"#E5ECF6\",\"polar\":{\"angularaxis\":{\"gridcolor\":\"white\",\"linecolor\":\"white\",\"ticks\":\"\"},\"bgcolor\":\"#E5ECF6\",\"radialaxis\":{\"gridcolor\":\"white\",\"linecolor\":\"white\",\"ticks\":\"\"}},\"scene\":{\"xaxis\":{\"backgroundcolor\":\"#E5ECF6\",\"gridcolor\":\"white\",\"gridwidth\":2,\"linecolor\":\"white\",\"showbackground\":true,\"ticks\":\"\",\"zerolinecolor\":\"white\"},\"yaxis\":{\"backgroundcolor\":\"#E5ECF6\",\"gridcolor\":\"white\",\"gridwidth\":2,\"linecolor\":\"white\",\"showbackground\":true,\"ticks\":\"\",\"zerolinecolor\":\"white\"},\"zaxis\":{\"backgroundcolor\":\"#E5ECF6\",\"gridcolor\":\"white\",\"gridwidth\":2,\"linecolor\":\"white\",\"showbackground\":true,\"ticks\":\"\",\"zerolinecolor\":\"white\"}},\"shapedefaults\":{\"line\":{\"color\":\"#2a3f5f\"}},\"ternary\":{\"aaxis\":{\"gridcolor\":\"white\",\"linecolor\":\"white\",\"ticks\":\"\"},\"baxis\":{\"gridcolor\":\"white\",\"linecolor\":\"white\",\"ticks\":\"\"},\"bgcolor\":\"#E5ECF6\",\"caxis\":{\"gridcolor\":\"white\",\"linecolor\":\"white\",\"ticks\":\"\"}},\"title\":{\"x\":0.05},\"xaxis\":{\"automargin\":true,\"gridcolor\":\"white\",\"linecolor\":\"white\",\"ticks\":\"\",\"title\":{\"standoff\":15},\"zerolinecolor\":\"white\",\"zerolinewidth\":2},\"yaxis\":{\"automargin\":true,\"gridcolor\":\"white\",\"linecolor\":\"white\",\"ticks\":\"\",\"title\":{\"standoff\":15},\"zerolinecolor\":\"white\",\"zerolinewidth\":2}}},\"xaxis\":{\"anchor\":\"y\",\"domain\":[0.0,1.0],\"title\":{\"text\":\"x_values\"}},\"yaxis\":{\"anchor\":\"x\",\"domain\":[0.0,1.0],\"title\":{\"text\":\"y_values\"}},\"legend\":{\"title\":{\"text\":\"label\"},\"tracegroupgap\":0},\"margin\":{\"t\":60},\"height\":400,\"width\":500},                        {\"responsive\": true}                    ).then(function(){\n",
       "                            \n",
       "var gd = document.getElementById('c305799b-5800-4f7d-9c52-6670cb7d7284');\n",
       "var x = new MutationObserver(function (mutations, observer) {{\n",
       "        var display = window.getComputedStyle(gd).display;\n",
       "        if (!display || display === 'none') {{\n",
       "            console.log([gd, 'removed!']);\n",
       "            Plotly.purge(gd);\n",
       "            observer.disconnect();\n",
       "        }}\n",
       "}});\n",
       "\n",
       "// Listen for the removal of the full notebook cells\n",
       "var notebookContainer = gd.closest('#notebook-container');\n",
       "if (notebookContainer) {{\n",
       "    x.observe(notebookContainer, {childList: true});\n",
       "}}\n",
       "\n",
       "// Listen for the clearing of the current output cell\n",
       "var outputEl = gd.closest('.output');\n",
       "if (outputEl) {{\n",
       "    x.observe(outputEl, {childList: true});\n",
       "}}\n",
       "\n",
       "                        })                };                });            </script>        </div>"
      ]
     },
     "metadata": {},
     "output_type": "display_data"
    }
   ],
   "source": [
    "import plotly.express as px\n",
    "PCA_data_complet100.label = PCA_data_complet100.label.astype(str)\n",
    "fig = px.scatter(PCA_data_complet100, x=\"x_values\", y=\"y_values\", color='label', hover_name=\"word\", width=500, height=400)\n",
    "fig.show()"
   ]
  },
  {
   "cell_type": "code",
   "execution_count": null,
   "id": "0a3da27d-f85f-4a7b-b542-28fdb7c0c044",
   "metadata": {},
   "outputs": [],
   "source": []
  },
  {
   "cell_type": "code",
   "execution_count": null,
   "id": "8ba7c31d-e589-4fb7-85e3-f33cae67d4c2",
   "metadata": {},
   "outputs": [],
   "source": []
  },
  {
   "cell_type": "code",
   "execution_count": null,
   "id": "5a56a369-68a3-4d02-a4ed-e9349665492e",
   "metadata": {},
   "outputs": [],
   "source": []
  }
 ],
 "metadata": {
  "kernelspec": {
   "display_name": "Python 3",
   "language": "python",
   "name": "python3"
  },
  "language_info": {
   "codemirror_mode": {
    "name": "ipython",
    "version": 3
   },
   "file_extension": ".py",
   "mimetype": "text/x-python",
   "name": "python",
   "nbconvert_exporter": "python",
   "pygments_lexer": "ipython3",
   "version": "3.8.8"
  }
 },
 "nbformat": 4,
 "nbformat_minor": 5
}
