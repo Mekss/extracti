{
 "cells": [
  {
   "cell_type": "code",
   "execution_count": 1,
   "id": "cdc1c80c-c7b0-4733-ab77-776b201cb50d",
   "metadata": {
    "tags": []
   },
   "outputs": [],
   "source": [
    "import datetime as dt\n",
    "import time\n",
    "from news_clustering import NewsClustering\n",
    "from news_processor import NewsProcessor\n",
    "from json_loader import JsonLoader\n",
    "from stories_visualizer import visualize_trending_stories\n",
    "from keywords_post_process import KeywordsPostProcessor\n",
    "import pandas as pd\n",
    "from ipywidgets import interact\n",
    "pd.set_option('display.max_colwidth', None)"
   ]
  },
  {
   "cell_type": "code",
   "execution_count": 3,
   "id": "eb261efd-208f-42d5-8079-c0f8c4bec239",
   "metadata": {
    "tags": []
   },
   "outputs": [
    {
     "data": {
      "application/vnd.jupyter.widget-view+json": {
       "model_id": "83dbba544b184f3b87a4ad006186bc32",
       "version_major": 2,
       "version_minor": 0
      },
      "text/plain": [
       "interactive(children=(Text(value='20031106', description='date_start'), Text(value='20031230', description='da…"
      ]
     },
     "metadata": {},
     "output_type": "display_data"
    }
   ],
   "source": [
    "@interact\n",
    "def choose_time_span(date_start='20031106', date_finish='20031230'):\n",
    "    if __name__ == \"__main__\":\n",
    "        \n",
    "        # uncomment the following lines of codes to rerun keywords extraction\n",
    "        news_articles = NewsProcessor.load_news_csv(date_start, date_finish, file=\"data/abcnews-date-text.csv\")\n",
    "        display(news_articles[:5])\n",
    "        \n",
    "        t0 = time.time()\n",
    "        news_articles = NewsProcessor.extract_keywords_news_list(news_articles)\n",
    "        news_articles = [_d for _d in news_articles if _d['kwords']]\n",
    "        JsonLoader.save_json(filename=\"data/abcnews-date-text2003 11 12.json\", data=news_articles)\n",
    "        t1 = time.time()\n",
    "        print(\"number of articles {}, keywords extraction time {}s\".format(len(news_articles), t1-t0))\n",
    "        \n",
    "        #KeywordsPostProcessor.post_process_article_keywords()\n",
    "        news_articles = JsonLoader.load_json(\"data/abcnews-date-text2003 11 12.json\")\n",
    "        for _d in news_articles:\n",
    "            _d['pubDate'] = dt.datetime.strptime(str(_d['pubDate']), \"%Y%m%d\")\n",
    "        news_clusters = NewsClustering.cluster_news_by_weighted_keywords(news_articles, eps=0.35, max_size=500)\n",
    "        NewsClustering.get_cluster_id_and_core_sample_news(news_clusters, news_articles)\n",
    "        not_clustered = [_d for _d in news_articles if _d['cluster_id'] is None]\n",
    "        if not_clustered:\n",
    "            print(\"number of news not clustered {}\".format(len(not_clustered)))\n",
    "            news_articles = [_d for _d in news_articles if _d['cluster_id'] is not None]\n",
    "        visualize_trending_stories(news_articles)"
   ]
  },
  {
   "cell_type": "code",
   "execution_count": 7,
   "id": "8b377708-1272-4c95-b5bd-134410038bcd",
   "metadata": {},
   "outputs": [],
   "source": [
    "import json\n",
    "files=['data/abcnews-date-text2003 02 05.json','data/abcnews-date-text2003 05 08.json', 'data/abcnews-date-text2003 08 11.json']\n",
    "\n",
    "def merge_JsonFiles(filename):\n",
    "    result = list()\n",
    "    for f1 in filename:\n",
    "        with open(f1, 'r') as infile:\n",
    "            result.extend(json.load(infile))\n",
    "\n",
    "    with open('abcnews_preprocessed.json', 'w') as output_file:\n",
    "        json.dump(result, output_file)\n",
    "\n",
    "merge_JsonFiles(files)"
   ]
  }
 ],
 "metadata": {
  "kernelspec": {
   "display_name": "Python 3",
   "language": "python",
   "name": "python3"
  },
  "language_info": {
   "codemirror_mode": {
    "name": "ipython",
    "version": 3
   },
   "file_extension": ".py",
   "mimetype": "text/x-python",
   "name": "python",
   "nbconvert_exporter": "python",
   "pygments_lexer": "ipython3",
   "version": "3.8.8"
  }
 },
 "nbformat": 4,
 "nbformat_minor": 5
}
